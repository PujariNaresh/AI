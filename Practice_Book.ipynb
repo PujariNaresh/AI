{
  "nbformat": 4,
  "nbformat_minor": 0,
  "metadata": {
    "colab": {
      "provenance": []
    },
    "kernelspec": {
      "name": "python3",
      "display_name": "Python 3"
    },
    "language_info": {
      "name": "python"
    }
  },
  "cells": [
    {
      "cell_type": "code",
      "execution_count": null,
      "metadata": {
        "colab": {
          "base_uri": "https://localhost:8080/"
        },
        "id": "061q-XZNWRyA",
        "outputId": "6d7335e0-9734-466a-80fb-9e6ec3d74b6a"
      },
      "outputs": [
        {
          "output_type": "stream",
          "name": "stdout",
          "text": [
            "2 4 6 "
          ]
        }
      ],
      "source": [
        "list1 = [1, 2, 3, 4, 5, 6]\n",
        "\n",
        "for i in list1:\n",
        "    if i % 2 == 0:\n",
        "        print(i,end=\" \")"
      ]
    },
    {
      "cell_type": "code",
      "source": [
        "list2 = [1, 2, 3, 4, 5, 6]\n",
        "\n",
        "for i in list2:\n",
        "    if i % 2 == 1:\n",
        "        print(i, end = \" \")"
      ],
      "metadata": {
        "colab": {
          "base_uri": "https://localhost:8080/"
        },
        "id": "L8xmKfEoWecq",
        "outputId": "8684fe8f-d6db-477f-851d-26a46f854af8"
      },
      "execution_count": null,
      "outputs": [
        {
          "output_type": "stream",
          "name": "stdout",
          "text": [
            "1 3 5 "
          ]
        }
      ]
    },
    {
      "cell_type": "code",
      "source": [
        "list3=[1,2,30,4,50,6]\n",
        "list3.sort()\n",
        "print(list3)"
      ],
      "metadata": {
        "colab": {
          "base_uri": "https://localhost:8080/"
        },
        "id": "ABTG5xvTXH-I",
        "outputId": "aeaa9657-b928-44fa-ca53-eb36aae58e53"
      },
      "execution_count": null,
      "outputs": [
        {
          "output_type": "stream",
          "name": "stdout",
          "text": [
            "[1, 2, 4, 6, 30, 50]\n"
          ]
        }
      ]
    },
    {
      "cell_type": "code",
      "source": [
        "\n",
        "input = input(\"Enter a list of words separated by spaces: \")\n",
        "list = input.split()\n",
        "\n",
        "print(\"Words starting with 'a':\")\n",
        "for word in list:\n",
        "    if word.lower().startswith('a'):\n",
        "        print(word)"
      ],
      "metadata": {
        "colab": {
          "base_uri": "https://localhost:8080/",
          "height": 390
        },
        "id": "JL05vKOrXbqb",
        "outputId": "60e9e2a9-89b1-4232-feb7-8dfb4f3b2da3"
      },
      "execution_count": null,
      "outputs": [
        {
          "output_type": "error",
          "ename": "KeyboardInterrupt",
          "evalue": "ignored",
          "traceback": [
            "\u001b[0;31m---------------------------------------------------------------------------\u001b[0m",
            "\u001b[0;31mKeyboardInterrupt\u001b[0m                         Traceback (most recent call last)",
            "\u001b[0;32m<ipython-input-5-29a523cff710>\u001b[0m in \u001b[0;36m<cell line: 1>\u001b[0;34m()\u001b[0m\n\u001b[0;32m----> 1\u001b[0;31m \u001b[0minput\u001b[0m \u001b[0;34m=\u001b[0m \u001b[0minput\u001b[0m\u001b[0;34m(\u001b[0m\u001b[0;34m\"Enter a list of words separated by spaces: \"\u001b[0m\u001b[0;34m)\u001b[0m\u001b[0;34m\u001b[0m\u001b[0;34m\u001b[0m\u001b[0m\n\u001b[0m\u001b[1;32m      2\u001b[0m \u001b[0mlist\u001b[0m \u001b[0;34m=\u001b[0m \u001b[0minput\u001b[0m\u001b[0;34m.\u001b[0m\u001b[0msplit\u001b[0m\u001b[0;34m(\u001b[0m\u001b[0;34m)\u001b[0m\u001b[0;34m\u001b[0m\u001b[0;34m\u001b[0m\u001b[0m\n\u001b[1;32m      3\u001b[0m \u001b[0;34m\u001b[0m\u001b[0m\n\u001b[1;32m      4\u001b[0m \u001b[0mprint\u001b[0m\u001b[0;34m(\u001b[0m\u001b[0;34m\"Words starting with 'a':\"\u001b[0m\u001b[0;34m)\u001b[0m\u001b[0;34m\u001b[0m\u001b[0;34m\u001b[0m\u001b[0m\n\u001b[1;32m      5\u001b[0m \u001b[0;32mfor\u001b[0m \u001b[0mword\u001b[0m \u001b[0;32min\u001b[0m \u001b[0mlist\u001b[0m\u001b[0;34m:\u001b[0m\u001b[0;34m\u001b[0m\u001b[0;34m\u001b[0m\u001b[0m\n",
            "\u001b[0;32m/usr/local/lib/python3.10/dist-packages/ipykernel/kernelbase.py\u001b[0m in \u001b[0;36mraw_input\u001b[0;34m(self, prompt)\u001b[0m\n\u001b[1;32m    849\u001b[0m                 \u001b[0;34m\"raw_input was called, but this frontend does not support input requests.\"\u001b[0m\u001b[0;34m\u001b[0m\u001b[0;34m\u001b[0m\u001b[0m\n\u001b[1;32m    850\u001b[0m             )\n\u001b[0;32m--> 851\u001b[0;31m         return self._input_request(str(prompt),\n\u001b[0m\u001b[1;32m    852\u001b[0m             \u001b[0mself\u001b[0m\u001b[0;34m.\u001b[0m\u001b[0m_parent_ident\u001b[0m\u001b[0;34m,\u001b[0m\u001b[0;34m\u001b[0m\u001b[0;34m\u001b[0m\u001b[0m\n\u001b[1;32m    853\u001b[0m             \u001b[0mself\u001b[0m\u001b[0;34m.\u001b[0m\u001b[0m_parent_header\u001b[0m\u001b[0;34m,\u001b[0m\u001b[0;34m\u001b[0m\u001b[0;34m\u001b[0m\u001b[0m\n",
            "\u001b[0;32m/usr/local/lib/python3.10/dist-packages/ipykernel/kernelbase.py\u001b[0m in \u001b[0;36m_input_request\u001b[0;34m(self, prompt, ident, parent, password)\u001b[0m\n\u001b[1;32m    893\u001b[0m             \u001b[0;32mexcept\u001b[0m \u001b[0mKeyboardInterrupt\u001b[0m\u001b[0;34m:\u001b[0m\u001b[0;34m\u001b[0m\u001b[0;34m\u001b[0m\u001b[0m\n\u001b[1;32m    894\u001b[0m                 \u001b[0;31m# re-raise KeyboardInterrupt, to truncate traceback\u001b[0m\u001b[0;34m\u001b[0m\u001b[0;34m\u001b[0m\u001b[0m\n\u001b[0;32m--> 895\u001b[0;31m                 \u001b[0;32mraise\u001b[0m \u001b[0mKeyboardInterrupt\u001b[0m\u001b[0;34m(\u001b[0m\u001b[0;34m\"Interrupted by user\"\u001b[0m\u001b[0;34m)\u001b[0m \u001b[0;32mfrom\u001b[0m \u001b[0;32mNone\u001b[0m\u001b[0;34m\u001b[0m\u001b[0;34m\u001b[0m\u001b[0m\n\u001b[0m\u001b[1;32m    896\u001b[0m             \u001b[0;32mexcept\u001b[0m \u001b[0mException\u001b[0m \u001b[0;32mas\u001b[0m \u001b[0me\u001b[0m\u001b[0;34m:\u001b[0m\u001b[0;34m\u001b[0m\u001b[0;34m\u001b[0m\u001b[0m\n\u001b[1;32m    897\u001b[0m                 \u001b[0mself\u001b[0m\u001b[0;34m.\u001b[0m\u001b[0mlog\u001b[0m\u001b[0;34m.\u001b[0m\u001b[0mwarning\u001b[0m\u001b[0;34m(\u001b[0m\u001b[0;34m\"Invalid Message:\"\u001b[0m\u001b[0;34m,\u001b[0m \u001b[0mexc_info\u001b[0m\u001b[0;34m=\u001b[0m\u001b[0;32mTrue\u001b[0m\u001b[0;34m)\u001b[0m\u001b[0;34m\u001b[0m\u001b[0;34m\u001b[0m\u001b[0m\n",
            "\u001b[0;31mKeyboardInterrupt\u001b[0m: Interrupted by user"
          ]
        }
      ]
    },
    {
      "cell_type": "code",
      "source": [
        "list4=[1,2,3,4,5]\n",
        "sum=0\n",
        "i=0\n",
        "\n",
        "while i<len(list4):\n",
        "  sum+=list4[i]\n",
        "  i+=1\n",
        "\n",
        "print(sum)\n"
      ],
      "metadata": {
        "colab": {
          "base_uri": "https://localhost:8080/"
        },
        "id": "yHxACk-gYBo3",
        "outputId": "9a73a6b9-b5af-470a-a6c7-4705b6013628"
      },
      "execution_count": null,
      "outputs": [
        {
          "output_type": "stream",
          "name": "stdout",
          "text": [
            "15\n"
          ]
        }
      ]
    },
    {
      "cell_type": "code",
      "source": [
        "inp = \"1/2/3/4/5\"\n",
        "output = [int(i) for i in inp.split('/')]\n",
        "print(output)"
      ],
      "metadata": {
        "id": "EZfUjqLHZJau",
        "colab": {
          "base_uri": "https://localhost:8080/"
        },
        "outputId": "079a2af3-0fab-4f42-8cef-e8d7ba6a6573"
      },
      "execution_count": null,
      "outputs": [
        {
          "output_type": "stream",
          "name": "stdout",
          "text": [
            "[1, 2, 3, 4, 5]\n"
          ]
        }
      ]
    },
    {
      "cell_type": "code",
      "source": [
        "user = \"1/2/3/4/5/naresh\"\n",
        "input1 = user.split('/')\n",
        "output1 = []\n",
        "\n",
        "for i in input1:\n",
        "    if i.isdigit():\n",
        "        output1.append(int(i))\n",
        "    else:\n",
        "        output1.append(i.upper())\n",
        "\n",
        "print(output1)"
      ],
      "metadata": {
        "colab": {
          "base_uri": "https://localhost:8080/"
        },
        "id": "pCQyK9HB5MTa",
        "outputId": "3bc04367-a85d-45bd-b123-d4a3ce90efe7"
      },
      "execution_count": null,
      "outputs": [
        {
          "output_type": "stream",
          "name": "stdout",
          "text": [
            "[1, 2, 3, 4, 5, 'NARESH']\n"
          ]
        }
      ]
    },
    {
      "cell_type": "code",
      "source": [
        "inp = \"1/2/3/4/5\"\n",
        "output = [int(i) for i in inp.split('/')]\n",
        "print(output)"
      ],
      "metadata": {
        "colab": {
          "base_uri": "https://localhost:8080/"
        },
        "id": "JfY7fS8M6Hw1",
        "outputId": "14f5d15d-0d2e-4f93-e542-2488681998ae"
      },
      "execution_count": null,
      "outputs": [
        {
          "output_type": "stream",
          "name": "stdout",
          "text": [
            "[1, 2, 3, 4, 5]\n"
          ]
        }
      ]
    },
    {
      "cell_type": "code",
      "source": [
        "input_list=\"1/2/3/4/5\"\n",
        "empty=[]\n",
        "for i in input_list.split('/'):\n",
        "  print(i)\n"
      ],
      "metadata": {
        "colab": {
          "base_uri": "https://localhost:8080/"
        },
        "id": "pgpgqbz68a76",
        "outputId": "3647c501-2dcb-4a9a-da0f-321055ff9ef0"
      },
      "execution_count": null,
      "outputs": [
        {
          "output_type": "stream",
          "name": "stdout",
          "text": [
            "1\n",
            "2\n",
            "3\n",
            "4\n",
            "5\n"
          ]
        }
      ]
    },
    {
      "cell_type": "code",
      "source": [
        "user1 = \"1/2/3/4/5\"\n",
        "input2 = user1.split('/')\n",
        "output2 = []\n",
        "\n",
        "for i in input2:\n",
        "    if i.isdigit():\n",
        "        output2.append(int(i))\n",
        "    else:\n",
        "        output2.append(i)\n",
        "\n",
        "print(output2)"
      ],
      "metadata": {
        "colab": {
          "base_uri": "https://localhost:8080/"
        },
        "id": "O8gwZJfC8qiZ",
        "outputId": "a68849b0-8d8b-41fb-9a8c-2ff388b99f30"
      },
      "execution_count": null,
      "outputs": [
        {
          "output_type": "stream",
          "name": "stdout",
          "text": [
            "[1, 2, 3, 4, 5]\n"
          ]
        }
      ]
    },
    {
      "cell_type": "code",
      "source": [
        "list5 = [1, 0, 2, 0, 3, 0, 4, 0]\n",
        "new_list = []\n",
        "\n",
        "for i in list5:\n",
        "    if i != 0:\n",
        "        new_list.append(i)\n",
        "    elif i==0:\n",
        "        new_list.append(i)\n",
        "\n",
        "print(new_list)"
      ],
      "metadata": {
        "colab": {
          "base_uri": "https://localhost:8080/"
        },
        "id": "z4pzf6hy-7v_",
        "outputId": "9818a683-2ecf-41d1-f18a-77b5eb9d9e98"
      },
      "execution_count": null,
      "outputs": [
        {
          "output_type": "stream",
          "name": "stdout",
          "text": [
            "[1, 0, 2, 0, 3, 0, 4, 0]\n"
          ]
        }
      ]
    },
    {
      "cell_type": "code",
      "source": [],
      "metadata": {
        "id": "JQaBQqii-CK-"
      },
      "execution_count": null,
      "outputs": []
    },
    {
      "cell_type": "code",
      "source": [
        "list5 = [1, 0, 2, 0, 3, 0, 4, 0]\n",
        "\n",
        "count= 0\n",
        "\n",
        "for i in list5:\n",
        "    if i == 0:\n",
        "        count += 1\n",
        "\n",
        "for i in list5:\n",
        "    if i != 0:\n",
        "        print(i, end =\" \")\n",
        "\n",
        "for i in range(count):\n",
        "    print(0,end=\" \")\n",
        "\n"
      ],
      "metadata": {
        "colab": {
          "base_uri": "https://localhost:8080/"
        },
        "id": "mLIAaGAPAykV",
        "outputId": "495951f7-b410-46d1-a104-7309f9906a74"
      },
      "execution_count": null,
      "outputs": [
        {
          "output_type": "stream",
          "name": "stdout",
          "text": [
            "1 2 3 4 0 0 0 0 "
          ]
        }
      ]
    },
    {
      "cell_type": "code",
      "source": [],
      "metadata": {
        "id": "dEFppJZtsquw"
      },
      "execution_count": null,
      "outputs": []
    },
    {
      "cell_type": "code",
      "source": [
        "while True:\n",
        "    user_input = input(\"Enter a number: \")\n",
        "\n",
        "    if user_input.isdigit():\n",
        "        user_input = int(user_input)\n",
        "\n",
        "        if user_input % 4 == 0:\n",
        "            print(f\"Skipping {user_input} because it's a multiple of 4.\")\n",
        "            continue\n",
        "\n",
        "        square = user_input ** 2\n",
        "        print(f\"The square of {user_input} is {square}\")\n",
        "\n",
        "        if user_input == 5:\n",
        "              break\n",
        "    else:\n",
        "        print(\"Invalid input. Please enter a valid number.\")\n",
        "\n",
        "\n",
        "\n",
        "\n"
      ],
      "metadata": {
        "id": "zkg8BRhGBZKk",
        "colab": {
          "base_uri": "https://localhost:8080/"
        },
        "outputId": "aad10a94-b184-4548-f162-3ec3e3486bad"
      },
      "execution_count": null,
      "outputs": [
        {
          "output_type": "stream",
          "name": "stdout",
          "text": [
            "Enter a number: 5\n",
            "The square of 5 is 25\n"
          ]
        }
      ]
    },
    {
      "cell_type": "code",
      "source": [
        "\n",
        "list8=[1,2,3,4,5,6,7,8,9]\n",
        "even=list(filter(lambda n: n%2==0,list8))\n",
        "even"
      ],
      "metadata": {
        "id": "BPBjaeggCEIl",
        "colab": {
          "base_uri": "https://localhost:8080/"
        },
        "outputId": "8cb79eac-e9af-4bed-9a7e-4572204757ed"
      },
      "execution_count": null,
      "outputs": [
        {
          "output_type": "execute_result",
          "data": {
            "text/plain": [
              "[2, 4, 6, 8]"
            ]
          },
          "metadata": {},
          "execution_count": 1
        }
      ]
    },
    {
      "cell_type": "code",
      "source": [
        "len(\"123456\")"
      ],
      "metadata": {
        "colab": {
          "base_uri": "https://localhost:8080/"
        },
        "id": "rzESy_lcwNH0",
        "outputId": "ae3108d1-4ab9-47b8-fa1c-fb23922e824c"
      },
      "execution_count": null,
      "outputs": [
        {
          "output_type": "execute_result",
          "data": {
            "text/plain": [
              "6"
            ]
          },
          "metadata": {},
          "execution_count": 2
        }
      ]
    },
    {
      "cell_type": "code",
      "source": [
        "len([1,2,3,4,5,6])"
      ],
      "metadata": {
        "colab": {
          "base_uri": "https://localhost:8080/"
        },
        "id": "jegPKcwf2Z4I",
        "outputId": "7e964979-611d-479c-a186-781a04085c42"
      },
      "execution_count": null,
      "outputs": [
        {
          "output_type": "execute_result",
          "data": {
            "text/plain": [
              "6"
            ]
          },
          "metadata": {},
          "execution_count": 3
        }
      ]
    },
    {
      "cell_type": "code",
      "source": [
        "len({1:'a',2:'b'})"
      ],
      "metadata": {
        "colab": {
          "base_uri": "https://localhost:8080/"
        },
        "id": "WPhVZcHV2d9q",
        "outputId": "f6754db4-ad09-4714-f356-cd29a354c81e"
      },
      "execution_count": null,
      "outputs": [
        {
          "output_type": "execute_result",
          "data": {
            "text/plain": [
              "2"
            ]
          },
          "metadata": {},
          "execution_count": 4
        }
      ]
    },
    {
      "cell_type": "code",
      "source": [
        "max([1,2,3,4])"
      ],
      "metadata": {
        "colab": {
          "base_uri": "https://localhost:8080/"
        },
        "id": "faWWLMKT2hsT",
        "outputId": "934591ef-7969-4a5c-d1e0-9824bb78c0b2"
      },
      "execution_count": null,
      "outputs": [
        {
          "output_type": "execute_result",
          "data": {
            "text/plain": [
              "4"
            ]
          },
          "metadata": {},
          "execution_count": 5
        }
      ]
    },
    {
      "cell_type": "code",
      "source": [
        "max({1:'a',2:'b'})"
      ],
      "metadata": {
        "colab": {
          "base_uri": "https://localhost:8080/"
        },
        "id": "K9Yn0ETL2wIZ",
        "outputId": "4e121d95-54f5-4975-ab79-7c1a6b2f7e1f"
      },
      "execution_count": null,
      "outputs": [
        {
          "output_type": "execute_result",
          "data": {
            "text/plain": [
              "2"
            ]
          },
          "metadata": {},
          "execution_count": 6
        }
      ]
    },
    {
      "cell_type": "code",
      "source": [
        "max([\"1\",\"2\",\"3\"])"
      ],
      "metadata": {
        "colab": {
          "base_uri": "https://localhost:8080/",
          "height": 36
        },
        "id": "D6KuiOJ-2z1h",
        "outputId": "daf5088d-40b8-4229-dbe2-c1e4f0d7aa8b"
      },
      "execution_count": null,
      "outputs": [
        {
          "output_type": "execute_result",
          "data": {
            "text/plain": [
              "'3'"
            ],
            "application/vnd.google.colaboratory.intrinsic+json": {
              "type": "string"
            }
          },
          "metadata": {},
          "execution_count": 8
        }
      ]
    },
    {
      "cell_type": "code",
      "source": [
        "max(\"[1,2,3]\",\"(7,8)\")"
      ],
      "metadata": {
        "colab": {
          "base_uri": "https://localhost:8080/",
          "height": 36
        },
        "id": "TFQ3ZfTw24cp",
        "outputId": "8fa833bd-c0d5-45bb-9f21-1bf76b850e2b"
      },
      "execution_count": null,
      "outputs": [
        {
          "output_type": "execute_result",
          "data": {
            "text/plain": [
              "'[1,2,3]'"
            ],
            "application/vnd.google.colaboratory.intrinsic+json": {
              "type": "string"
            }
          },
          "metadata": {},
          "execution_count": 15
        }
      ]
    },
    {
      "cell_type": "code",
      "source": [
        "ord('@')"
      ],
      "metadata": {
        "colab": {
          "base_uri": "https://localhost:8080/"
        },
        "id": "aw6VciDP3oCK",
        "outputId": "3fbf7feb-6111-4c1c-bd8c-cc1c9361a298"
      },
      "execution_count": null,
      "outputs": [
        {
          "output_type": "execute_result",
          "data": {
            "text/plain": [
              "64"
            ]
          },
          "metadata": {},
          "execution_count": 16
        }
      ]
    },
    {
      "cell_type": "code",
      "source": [],
      "metadata": {
        "id": "xO0E3ESq4I2b"
      },
      "execution_count": null,
      "outputs": []
    },
    {
      "cell_type": "markdown",
      "source": [
        "hex --> It is used to convert any number to hexa decimal ValueError\n"
      ],
      "metadata": {
        "id": "M3wJYlZv45Bi"
      }
    },
    {
      "cell_type": "markdown",
      "source": [],
      "metadata": {
        "id": "0l0NloJg42dV"
      }
    },
    {
      "cell_type": "code",
      "source": [
        "hex(10)"
      ],
      "metadata": {
        "colab": {
          "base_uri": "https://localhost:8080/",
          "height": 36
        },
        "id": "TjC2ILvj49xA",
        "outputId": "4ec76fd0-a8d9-4dda-fe55-776de94895a5"
      },
      "execution_count": null,
      "outputs": [
        {
          "output_type": "execute_result",
          "data": {
            "text/plain": [
              "'0xa'"
            ],
            "application/vnd.google.colaboratory.intrinsic+json": {
              "type": "string"
            }
          },
          "metadata": {},
          "execution_count": 17
        }
      ]
    },
    {
      "cell_type": "code",
      "source": [
        "pow(2,3)"
      ],
      "metadata": {
        "colab": {
          "base_uri": "https://localhost:8080/"
        },
        "id": "171ps_f24_Gj",
        "outputId": "d344f876-e072-4888-aaa3-5ace0a441750"
      },
      "execution_count": null,
      "outputs": [
        {
          "output_type": "execute_result",
          "data": {
            "text/plain": [
              "8"
            ]
          },
          "metadata": {},
          "execution_count": 18
        }
      ]
    },
    {
      "cell_type": "code",
      "source": [
        "name=\"Pujari Naresh\"\n",
        "name[::-1]\n"
      ],
      "metadata": {
        "colab": {
          "base_uri": "https://localhost:8080/",
          "height": 36
        },
        "id": "UDvfUhtF5BtR",
        "outputId": "99f4fd9b-01b2-46fd-fb79-469a06b9a3c7"
      },
      "execution_count": null,
      "outputs": [
        {
          "output_type": "execute_result",
          "data": {
            "text/plain": [
              "'hseraN irajuP'"
            ],
            "application/vnd.google.colaboratory.intrinsic+json": {
              "type": "string"
            }
          },
          "metadata": {},
          "execution_count": 22
        }
      ]
    },
    {
      "cell_type": "code",
      "source": [
        "f=\"Welcome to shimakh technology\"\n",
        "f[1:6:2]"
      ],
      "metadata": {
        "colab": {
          "base_uri": "https://localhost:8080/",
          "height": 36
        },
        "id": "qIjQRy5x6EWU",
        "outputId": "9d1a7065-5883-4800-c76b-84e5e6e49943"
      },
      "execution_count": null,
      "outputs": [
        {
          "output_type": "execute_result",
          "data": {
            "text/plain": [
              "'ecm'"
            ],
            "application/vnd.google.colaboratory.intrinsic+json": {
              "type": "string"
            }
          },
          "metadata": {},
          "execution_count": 24
        }
      ]
    },
    {
      "cell_type": "code",
      "source": [
        "f[-28:-23:2]"
      ],
      "metadata": {
        "colab": {
          "base_uri": "https://localhost:8080/",
          "height": 36
        },
        "id": "g80HN3w07LCv",
        "outputId": "1e6e3c1b-5db0-43ba-8ad1-711c0ec27f34"
      },
      "execution_count": null,
      "outputs": [
        {
          "output_type": "execute_result",
          "data": {
            "text/plain": [
              "'ecm'"
            ],
            "application/vnd.google.colaboratory.intrinsic+json": {
              "type": "string"
            }
          },
          "metadata": {},
          "execution_count": 26
        }
      ]
    },
    {
      "cell_type": "markdown",
      "source": [],
      "metadata": {
        "id": "ZmxrYRUApZlK"
      }
    },
    {
      "cell_type": "code",
      "source": [
        "f[::]"
      ],
      "metadata": {
        "colab": {
          "base_uri": "https://localhost:8080/",
          "height": 36
        },
        "id": "i00liNXg7jDo",
        "outputId": "0e4e11e3-0c4e-4ba7-c572-d9f36f3a9a0d"
      },
      "execution_count": null,
      "outputs": [
        {
          "output_type": "execute_result",
          "data": {
            "text/plain": [
              "'Welcome to shimakh technology'"
            ],
            "application/vnd.google.colaboratory.intrinsic+json": {
              "type": "string"
            }
          },
          "metadata": {},
          "execution_count": 27
        }
      ]
    },
    {
      "cell_type": "code",
      "source": [
        "f[:29]"
      ],
      "metadata": {
        "colab": {
          "base_uri": "https://localhost:8080/",
          "height": 36
        },
        "id": "SjDLUOSK8PnZ",
        "outputId": "5547d041-bb02-42f8-f0c4-3052b1f0a381"
      },
      "execution_count": null,
      "outputs": [
        {
          "output_type": "execute_result",
          "data": {
            "text/plain": [
              "'Welcome to shimakh technology'"
            ],
            "application/vnd.google.colaboratory.intrinsic+json": {
              "type": "string"
            }
          },
          "metadata": {},
          "execution_count": 32
        }
      ]
    },
    {
      "cell_type": "code",
      "source": [
        "f[0:28:1]"
      ],
      "metadata": {
        "colab": {
          "base_uri": "https://localhost:8080/",
          "height": 36
        },
        "id": "2_1bWeDE8efQ",
        "outputId": "339ad165-65b1-450e-f6aa-b81fecfc7f4c"
      },
      "execution_count": null,
      "outputs": [
        {
          "output_type": "execute_result",
          "data": {
            "text/plain": [
              "'Welcome to shimakh technolog'"
            ],
            "application/vnd.google.colaboratory.intrinsic+json": {
              "type": "string"
            }
          },
          "metadata": {},
          "execution_count": 30
        }
      ]
    },
    {
      "cell_type": "code",
      "source": [
        "f[3:20:4]"
      ],
      "metadata": {
        "colab": {
          "base_uri": "https://localhost:8080/",
          "height": 36
        },
        "id": "_ioZb0FX8rQP",
        "outputId": "dc030f85-a5a2-4203-eca3-17b9d9f30a85"
      },
      "execution_count": null,
      "outputs": [
        {
          "output_type": "execute_result",
          "data": {
            "text/plain": [
              "'c sat'"
            ],
            "application/vnd.google.colaboratory.intrinsic+json": {
              "type": "string"
            }
          },
          "metadata": {},
          "execution_count": 36
        }
      ]
    },
    {
      "cell_type": "code",
      "source": [
        "f[5:29:5]"
      ],
      "metadata": {
        "colab": {
          "base_uri": "https://localhost:8080/",
          "height": 36
        },
        "id": "nl-9FxC99qaL",
        "outputId": "b2df25b9-4e0b-4a9e-a1c0-5c3a4c2470a8"
      },
      "execution_count": null,
      "outputs": [
        {
          "output_type": "execute_result",
          "data": {
            "text/plain": [
              "'m ael'"
            ],
            "application/vnd.google.colaboratory.intrinsic+json": {
              "type": "string"
            }
          },
          "metadata": {},
          "execution_count": 37
        }
      ]
    },
    {
      "cell_type": "code",
      "source": [
        "f[5:29:6]"
      ],
      "metadata": {
        "colab": {
          "base_uri": "https://localhost:8080/",
          "height": 36
        },
        "id": "6uD6z_BF_GDt",
        "outputId": "efe147e7-9608-43fe-8f0b-f9b5c5615867"
      },
      "execution_count": null,
      "outputs": [
        {
          "output_type": "execute_result",
          "data": {
            "text/plain": [
              "'mshn'"
            ],
            "application/vnd.google.colaboratory.intrinsic+json": {
              "type": "string"
            }
          },
          "metadata": {},
          "execution_count": 38
        }
      ]
    },
    {
      "cell_type": "code",
      "source": [
        "f[5::6]"
      ],
      "metadata": {
        "colab": {
          "base_uri": "https://localhost:8080/",
          "height": 36
        },
        "id": "Go-DO_Rr_e7g",
        "outputId": "5c033ee9-faef-405a-bd1c-91fd7f57f700"
      },
      "execution_count": null,
      "outputs": [
        {
          "output_type": "execute_result",
          "data": {
            "text/plain": [
              "'mshn'"
            ],
            "application/vnd.google.colaboratory.intrinsic+json": {
              "type": "string"
            }
          },
          "metadata": {},
          "execution_count": 40
        }
      ]
    },
    {
      "cell_type": "code",
      "source": [
        "f[-6:-26:-6]"
      ],
      "metadata": {
        "colab": {
          "base_uri": "https://localhost:8080/",
          "height": 36
        },
        "id": "elx53xe3_nsT",
        "outputId": "b8cf48b8-ba42-4792-b542-789679046e0b"
      },
      "execution_count": null,
      "outputs": [
        {
          "output_type": "execute_result",
          "data": {
            "text/plain": [
              "'nhsm'"
            ],
            "application/vnd.google.colaboratory.intrinsic+json": {
              "type": "string"
            }
          },
          "metadata": {},
          "execution_count": 57
        }
      ]
    },
    {
      "cell_type": "code",
      "source": [
        "f[-28:-23:2]"
      ],
      "metadata": {
        "colab": {
          "base_uri": "https://localhost:8080/",
          "height": 36
        },
        "id": "yLvRl1SDAL2L",
        "outputId": "095ecfad-8e42-4d84-834a-0aceacff2ebb"
      },
      "execution_count": null,
      "outputs": [
        {
          "output_type": "execute_result",
          "data": {
            "text/plain": [
              "'ecm'"
            ],
            "application/vnd.google.colaboratory.intrinsic+json": {
              "type": "string"
            }
          },
          "metadata": {},
          "execution_count": 53
        }
      ]
    },
    {
      "cell_type": "code",
      "source": [
        "f[-24:-4:6]"
      ],
      "metadata": {
        "colab": {
          "base_uri": "https://localhost:8080/",
          "height": 36
        },
        "id": "PKXqId9-A2zv",
        "outputId": "bf69e868-a8e4-41e5-9e13-5bc8707e66d5"
      },
      "execution_count": null,
      "outputs": [
        {
          "output_type": "execute_result",
          "data": {
            "text/plain": [
              "'mshn'"
            ],
            "application/vnd.google.colaboratory.intrinsic+json": {
              "type": "string"
            }
          },
          "metadata": {},
          "execution_count": 59
        }
      ]
    },
    {
      "cell_type": "code",
      "source": [
        "f[2:6:-1]"
      ],
      "metadata": {
        "colab": {
          "base_uri": "https://localhost:8080/",
          "height": 36
        },
        "id": "F8jHrh0_BGyW",
        "outputId": "5074abf8-cd36-408a-bc22-d1b1e099b58a"
      },
      "execution_count": null,
      "outputs": [
        {
          "output_type": "execute_result",
          "data": {
            "text/plain": [
              "''"
            ],
            "application/vnd.google.colaboratory.intrinsic+json": {
              "type": "string"
            }
          },
          "metadata": {},
          "execution_count": 60
        }
      ]
    },
    {
      "cell_type": "code",
      "source": [
        "list7=[1,2,3,4,5,6]\n",
        "for i in list7:\n",
        "  print(i**2)"
      ],
      "metadata": {
        "colab": {
          "base_uri": "https://localhost:8080/"
        },
        "id": "su7sze2wBtyl",
        "outputId": "9c594383-db50-489c-9f78-d1b0ac0108d4"
      },
      "execution_count": null,
      "outputs": [
        {
          "output_type": "stream",
          "name": "stdout",
          "text": [
            "1\n",
            "4\n",
            "9\n",
            "16\n",
            "25\n",
            "36\n"
          ]
        }
      ]
    },
    {
      "cell_type": "code",
      "source": [
        "  l1=[1,2,3]\n",
        "  l2=[4,5,6]\n",
        "  ol={i:j for(i,j) in zip(l1,l2)}\n",
        "\n",
        "  ol\n"
      ],
      "metadata": {
        "colab": {
          "base_uri": "https://localhost:8080/"
        },
        "id": "5PNU9FT5B79s",
        "outputId": "de1c2e43-f8fa-471a-cc38-befe5adf9d6c"
      },
      "execution_count": null,
      "outputs": [
        {
          "output_type": "execute_result",
          "data": {
            "text/plain": [
              "{1: 4, 2: 5, 3: 6}"
            ]
          },
          "metadata": {},
          "execution_count": 72
        }
      ]
    },
    {
      "cell_type": "code",
      "source": [
        "for (i,j) in zip(l1,l2):\n",
        "  ol[i]=j\n",
        "print(ol)"
      ],
      "metadata": {
        "colab": {
          "base_uri": "https://localhost:8080/"
        },
        "id": "nM7WN5sILnx2",
        "outputId": "cd8442e3-25fd-4b4a-e07e-d800939c7cf1"
      },
      "execution_count": null,
      "outputs": [
        {
          "output_type": "stream",
          "name": "stdout",
          "text": [
            "{1: 4, 2: 5, 3: 6}\n"
          ]
        }
      ]
    },
    {
      "cell_type": "code",
      "source": [
        "ol={i:j for (i,j) in zip(l1,l2)}\n",
        "ol"
      ],
      "metadata": {
        "colab": {
          "base_uri": "https://localhost:8080/"
        },
        "id": "09Abu9mtMIZA",
        "outputId": "33a0d5b1-c259-4b2f-84b7-562e5d5d0065"
      },
      "execution_count": null,
      "outputs": [
        {
          "output_type": "execute_result",
          "data": {
            "text/plain": [
              "{1: 4, 2: 5, 3: 6}"
            ]
          },
          "metadata": {},
          "execution_count": 79
        }
      ]
    },
    {
      "cell_type": "code",
      "source": [
        "class Add:\n",
        "    def __init__(self, a, b):\n",
        "        self.a = a\n",
        "        self.b = b\n",
        "\n",
        "    def sum(self):\n",
        "        return self.a + self.b\n",
        "obj1=Add(10,20)\n",
        "obj1.sum()"
      ],
      "metadata": {
        "id": "eky962iWMequ",
        "colab": {
          "base_uri": "https://localhost:8080/"
        },
        "outputId": "d7eb01e0-a6d0-48a7-9c9e-1c009aab6545"
      },
      "execution_count": null,
      "outputs": [
        {
          "output_type": "execute_result",
          "data": {
            "text/plain": [
              "30"
            ]
          },
          "metadata": {},
          "execution_count": 8
        }
      ]
    },
    {
      "cell_type": "code",
      "source": [
        "class Sum:\n",
        "  def sum(self,a,b):\n",
        "    return a+b\n",
        "obj=Sum()\n",
        "obj.sum(10,20)\n",
        "\n"
      ],
      "metadata": {
        "colab": {
          "base_uri": "https://localhost:8080/"
        },
        "id": "Xjv0Ca5NEuKd",
        "outputId": "dde38254-6a28-483a-d5c8-a78ef536ba5c"
      },
      "execution_count": null,
      "outputs": [
        {
          "output_type": "execute_result",
          "data": {
            "text/plain": [
              "30"
            ]
          },
          "metadata": {},
          "execution_count": 11
        }
      ]
    },
    {
      "cell_type": "code",
      "source": [
        "from IPython.display import Image\n",
        "\n",
        "image_url = 'data:image/jpeg;base64,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'\n",
        "\n",
        "Image(url=image_url)"
      ],
      "metadata": {
        "id": "dgrwj_q1Gnmo",
        "colab": {
          "base_uri": "https://localhost:8080/",
          "height": 188
        },
        "outputId": "0e96e842-2d18-44be-e073-e44d6e874531"
      },
      "execution_count": null,
      "outputs": [
        {
          "output_type": "execute_result",
          "data": {
            "text/html": [
              "<img src=\"data:image/jpeg;base64,/9j/4AAQSkZJRgABAQAAAQABAAD/2wBDAAsJCQcJCQcJCQkJCwkJCQkJCQsJCwsMCwsLDA0QDBEODQ4MEhkSJRodJR0ZHxwpKRYlNzU2GioyPi0pMBk7IRP/2wBDAQcICAsJCxULCxUsHRkdLCwsLCwsLCwsLCwsLCwsLCwsLCwsLCwsLCwsLCwsLCwsLCwsLCwsLCwsLCwsLCwsLCz/wAARCACmAYADASIAAhEBAxEB/8QAHAABAAICAwEAAAAAAAAAAAAAAAEFBAYCAwcI/8QATxAAAgEDAwIDAwcGCwQIBwAAAQIDAAQRBRIhEzEGQVEUImEVFiNxgZGTJDIzUlRVBzRCQ0WUobGzwdE1YrLTJVNyc3SStOFjZXWio/Dx/8QAGgEBAAMBAQEAAAAAAAAAAAAAAAECAwQFBv/EACwRAAIBAwMEAgIBBAMAAAAAAAABAgMREhMhUQQUMUEFYhVhcSIyQlKBkcH/2gAMAwEAAhEDEQA/APW6moqaAilKUApSlAKmlKAilKUApSpoCKUpQClKUAqi1jW9Q0kyyHR3ns1ltoUuVvLePfLcMsSr02G4e8cZq9+6tf8AFyu+kBUVmb5S0lsIjOcLeRMThQTx51aNr7lZXtsWVhdXlykvtlktncRvjoe0w3LGMj3XJi7Z5+6sk3FsqtI00IRQSzNIgUAHaSSTj1Fax4iF5pl5Dq2nITc6jA2gyIm0FriY5tJzxklDuz8DWDNaaHpGr6Ha6giSWVp4dljzLA86GcXILSyIityxLHJHcnzbmcb7lcjdmlgWPqvLGsWA3UZ1CbT2O4nFGnt1iEzTRLCQCJWdRGQexDk4rz0QXSWXh2a4SW30ddS16aJLuye6W1inkJsWuLU8gBdwXI93cO2OMiS005dPtZhqeI01e9vLT2vR5zphLxhHhNrjiPuYzkck4qcLexmb4HjZN6uhQruDhgUK987hxitei8R314jXWmaDeXmmhmEd114IHuEQ4aS2t5DvK/q5xmsjTElvvDsUT2iae11ZXEKwRIyJAJA6KyIwDAEe8ARxmq3Stcs9K02x03Ube9h1HT7aK1a1hsriY3DQgRq1s0SlCGwCPeHfnGKKKs/YcvBYXHiK0Fjpl5Yxi6fU5ehZwvKlt7yqzyGd5eFC7SG4JzgefGVqep/JmmnUJLcylXs42iikXAa4ljhyHIwQN3fHOPjWqJpUyReEU1GzjMl74i1G7uLd4usIILuOecQSMARgHbuGcZ+qr3xdGRoE8USdrrS1RY0ZtqreQnAVATgAelMUmkQm7MvHnt4yBJNEhLiNQ7opLnkKMnuawflSNNVu9OmWOKO3sLW8NxLKqhmnklj2YYAcbfXzrXbvT7O4n/hImuLRJnS3iNs8sDMVYafkGDIxuBA5XnNctNsYL3VoH1G2S4C+E9F/jkJdVlZpQ+eoNu7sT5jPxpgicmbfJNBEnVlljjj49+R1VOe3vMcc0aWFV3tJGq7Gk3MyhdijJfJOMDzrzqBLgWXg2e+do9Pi0y8iEl5ZSXscN318L1YXG4ZQEKxXgDHG6s2HTrO4m8GWrma+0+SXxFL9PZy20XTYIyxGFhxFnOwN3AHpRwSCmzZptWFqus3F1bGOxsI4ZoLiOeGVr1HjLnpxqcjHYZPNZ5urNYlle4gSNjtDtLGELegbOM/bWmapZb4/4SI4rbIWHRzaqkBO0w2armH3f5IyOM47fCu28uNClk0aC103TvY5LS5a3uLzTrmSDdJKEeC3tVQe+x5JIHHrTBMZm4tLCilnkjVQoYs7Ko2+uSe1DLAIzMZYxDtDdQuojCnz3ZxitG0WyFzN4Ijvrdplh0HUxIl3FIyrIlzCqCQOMZAzgN6cds11RxJDDpntlvMdCsfEviBLmDoyPBDHvcWjPAFJMSntwRyD27MLexmb77Ra9Lr9eHod+r1E6eP+3nH9tdisrqroysrAMrKQQQeQQRxWjaiLCSTQrmzRbfQkbVNzNpcktrHevtKzvasq+6w3BH2kZ/7Wav8Aw3DDDYS9C4kmgkvLqaHdaNZxxK7cx28LDIjByV+uquNlclSuXdKClVLilKUBNRU0oCKUpQClKUBNRU1FAKmopQClKUApSlAKmoqaAilKUApSlAKUpQClKUBh3x1VYl+TY7N5i43+2yTJGEx5dFWOar9/jf8AZvD+PLNzfZ/wavKULxnj6NcmtPFVzPZXM9noLy2Mjy2n5ZqIRJHQxl2QRbScEgZHGaG08UG+TUTZ6F7WlsbNX9s1Db0GfqFdnS29/PFbHSly2p9UUxfxl+z6D/Wb3t+DUF/Gf7NoP1G5vcfD+Zq6xTFBq/VFLv8AGn7PoH9Zvs/4NA/jPjNvoPnnFze5+z6GrrFMUGr9UUwfxl52+hf1i9/5NN/jLzttC/rF7/yaucVGKDV+qKcv4z8rbQftub3/AJNRv8Z/s2g/1i97fg1dYpig1fqim3eMe3s+hf1i9xj6ujU7/GOf4toWMftN7n/Bq3xTFBq/VFPv8Y/s+hf1i9/5Vcd/jT9m0DgnH5TfcDy/mau6c1JOr9UUofxnz+TaDny/KL3/AJNTv8Zfs2hf1i97fg1cVOKgjVX+qKbf4xyc2+hY/wDE3vb4/Q1DP4zwdtvoO7jGbm+x94hz/ZV1Sg1PqjinU2J1Nu/aN+3O3djnGfKuVKUMhSlKAmopSgFKUoBSlKAmoqaigKc+JvCwJHyxYd8cTKf7qj50eFO3yzp/46/f9VeGbnCFyFACbzwOwGauk0vSkvdF0u5lvzfXzaS88kLWy2qJfEP040dTKcKeW3YzwFxyOnSjyciryfo9Z+dHhQ9tZsPxlqfnP4Vz/tiw/GWvIIND1GZIJIZbTpXE08StIZgY2jiafaVKAuWVTtCA8isW6s7qytLa8laF0uGkEaQiRnVkZkCOzKEDkr+bnIyMjmmlHknWlwe0jxP4V/fFh6n6Za7rbXvD95PHbWup2c08gYxxRyqXbapY4H1V47q+jz6VHp+eqzOJLW8M0WxVvYlSWRYc4zHhl2n4H047/B24+KPD+QvD3XHHYW0lQ6StdMKtK6TR7bU1HpU1znURSlKAUOaVBoCtuNe8PWk0lvc6pZxTxECSN5VDKSAcEV1DxP4W7fLFh+MvnXkXiYsviHXztAHt8w5wTyQc1jJHpttpkWo6g923tc97BZxWRgRYzaRoWeZpgdxYsoCjbwCc+R6NJWuzl1pZWSPZvnP4VP8ATFh+MtR86PCn750/8da8nudCuBLex2kkRW1t7KeRbpjHKTPHD1GaTaIgFMg7sDj6qxp9DvbdL+R5LZlsniiYJ197s69QFEaMYjA7McA+RPm0o8jWlwexfOfwqf6YsPxhQeJvCxZVGsWG5mVVHWXJLHaBXkK6RN8hDVgJuplrsJ0/yb5PE3s2/qfr7huI/VqoZyMAhf0ic49TtJ9fqqdJemRrSvZo+jaUpXMdYqaUoCKUpQClKUBNdcssUEUs00ixxRI0kjuQqoijJJJrsql8U5+buv47+wy/5elEQ9kPnR4V/fFh+MtPnR4U/fOn/ZOp/urw1uoVwqoSWVFDcDcxCgkjyHn/AJ9quW0zRk1G50nq6i93ZJqJupma1jhlks7KS5PTiVeoo3KAuWOR6Zrp0Yr2cqrt+EetDxP4VOMazYHPbE68j1+qnzn8K/vmw/GWvIBoeqdKKXfaNC9pLcqyi43t0XRGjSHp9UsNwPC4wc9hxjz6bfwzaVahreS41M2y2vRDvFvnZAv0m0I2M5baTjBBxio0o8k60uD2f5z+FR/TFh3x+mWsiz1rRNQlaCy1C1uJlQytHDIrOE3bdxA5xmvF9Z086dcRJD7Q9tNEJYHu4unMxjZoJQ64HZlOPhj15vP4O8/OG4Jxj5Kn5HnmaI+VRKkkriNaTlax65zSlKwOomoqaigFKUoDouruzsoHubueOCBCoeSZgqAsdoGT61XDxP4VPbWLD8Zaqv4QCR4cmPGfbbHv8Jcg15PY28t/e6fYRsiPeXEdsHdSVjDZ3OQCCcDOBkZ+2tqdNSVzCpVcHZHtvzn8K/vnT/L+fX41Hzo8KfvnT/xlryFbXR7tdUFi1+r2FsGX217ciSVr2C1VmWBMgEMxK4yOOT58ZtB1CGOeUyWhjjS0kjKtIDKlzuCtsMe5VG0gs4UDHfnm+lHkprS4PYfnP4WP9MWHbP6ZeB8aj50eFCARrNhgjj6ZfOvIBpF58rW2kuQ7uxeaS2SRtsEUbTSyRCRQSdo9wjIJI8jzj6pbNp99cWwD9MdKe2aZAkr28yCaIyLjhsHDcd/qoqMXtch15Ldo90sdU0rUhKbC9t7nolRL7PIrmMsCRuA5GazK81/gxLNJ4jJAwPYBkeZxIe5NelVhNYux0QlkrnzcBdDvDd4AAP5NP2+1KzY9b8QQxW0Mb3e22MRt2axLTRiJupGizNEZNinsu7H2V9B7V/VX7hTanoPuFX1WZ6KR8/jW/ELrBue4dYGjMay2G8b44+ijMGiwWC8KfLaP1a631LW5OkGa7YRXqagGNk+57wNvE0pEXvMMnls969u8QXGp2emzT6alobhHg9663BFRpFQ4Cqck5x5dyfLBsog5jiMqRrIVXqLH7yK2OQrEAkenApqFtCyyufPTXmqvFcxStfPHczreTK8Fy4addwD++mQfePYj/S68FLdHxToJ6NztVrppC0Eqqi+zSDLM6gD769v2r+qv3CmAPIfYMU1HaxVUVe5NTUYqayNyKUpQChpQigPBvFK3Hzj1/wChuSDfzEEW8zKVPYqVUjFYVrqOsWcUkNublYZW3PG9i0qiRkKGSMTRNtbBxkY/sr6F2j0H3U2r+qv3CtVUfgwdFN3Pn9ta8RmOWJ5rto2BjYNZsdynZlAWiztOxdw88D7eqTWddlS5jf2jbcWy2cmyxZMWoXb0I2SIERkdwCB9p5921eS7t9N1G4sktzcQW00sZuMiNdilixCqckAHA8z5jOR26ebuSxspL1LcXbwo04tyWh3kclCyg4Pft/dktQt2/wDTe54Gupa4WEnVvhmz+T9ot59gtNoi6Qj2bMY+GaxRFdO0aJb3TM0kaoBa3BLNuGAPd719IbV/VX7hUbR5BQfXAzTUZVUVc5UpgUrI2JpUVNCSKUpQClKUBNUvilXbw7r6oGLmxmChAWYnHYAc1dVxIBHb78H++hD32Pm4+07RmG65yQPZrgcjH+5We2u+InVFaS7O1GiD+wgTOjxmDbJKId7YUkDJ7fGvoEhf1R9wqsvtQMcxsLCFLjUyqvtb9BaIxwJrt17DzVQctjAwMsuuqzKNBN7M8YOs+KXmild7zrqJWib5PPUjedlLyRkxcOxAJIIPHx5xhqOuI9m49pjaxSYWnTsnjEJnXpyOirGBvYcMxGftr15PCVoNP1Sxe9uyNTura7upYysbpJEUJS3AHuocHA5xnAPHGZYXDWD2+kX6Rq+3padcxqFgvI0HCYPCygD3lzz3HorM0l00bPF3PD2n1F4IbVzevBDNJLEj29w2x5AiuVZkLc4HGfL41tn8HC3HzhumaK4CLpU4Z3hlRFYzRYBZwBkjt/7V67hP1R9wqcAdgB9wqHUbVjNUlF3JpSlZmxNRU1FAKUpQGo/whB28NThEkc+2WRxGjOwAk5OFBPH1V47GbpHjkjju0kRlkidILhWjdSCGBCZyMcV9H49QKbV/VX7hV4zcVYynTUnc8BbXvEu9ZurdJJ7vvRWAiJYSpPvfpQgltyISec4+/qfWfEDiVmFyOpAtqzLYYItgWboqwi4Q5Pug4I796+gto/VX7hVDe6NLDqcniCxBmvhEkL2crKsM1uq7WSIke7IeCGPpt4ByLahMKKezZ42+p647yys94HksxYfQ2ksYW03CTpRhIwFQnHbFY0s2ozrbJMt44toltrfqW85ZIt7yBdxTJwScZPnX0HaXVpfQLPByhLIyum2SKRTho5UIyGU8EH/+5G1f1R69hTUKuh6Z5t/Bck4fxG7xzLGxsVVpIpI1Z1Em4LvA7edel0AA8vupWcnd3NYrFWFKUqCSr1/HyTe57Ztv/UR1aVV6/wD7Jvfrtv8A1EdWdC7/ALF/L/8ACaUpQoKUpQClKUApShNAKUpQhmDq/Ok6yP8A5dff4D1kWn8Vs/8AuIf+AVj6txpWsf8A0+9P/wCF6yLbHs1r/wBxF/wihp/j/wAndSlKFBSlKAVNRU0BFKUoBSlKAGo+w1DMACTjA5znAGKpTPda0xjsZHt9JBImvkyst75GOyJ7J6yef8n9ahZRv/B2XF/dXc01hpBUPE3Tvb9lDwWZ844geGmHp2Xz/VbMsrC1sITFArZdjJPJKxea4mbG6WaQ8lj6/YMAYHdb29taxRW9vGkUMShUSMYVR8P867fuoS5bWj4IA+Oe1dN1aWt7BLb3MSyQyAblbI5ByrKRghgeVIOQRkV3/dU1JRbeCmiurjS5IrPUpGktpHWKy1CTHvMeFhvGHAkPZWwA3wbg24wRnmuE0EFxFLDPGkkUqMkkcihkdW4IINVIln0RljuWaXSOFhunYtLYk8CO6J5MXkr+XZuPeA02nuvJdjtSuIZSARgg4xz3z2xXLIqDP+RSlKAUpSgFKUoBQ0pQFTd2d1bXDanpqhpmUC+tMhUvkUYBBPAlXsrefY+RXNs7y2voEuLdiyMWVlcFZI5FO1o5UPIZTwwPasn1qovLS6tZ31PTEDTMAb6zyFS+RRjcpPAlUfmnz7HyKjRPLZ+S3yKVjWd5bXsEdxbtujfIwwKujqcMkinkMOzA1kZ+FCjVnZiprUPl3Vjn6WH8If61zXV/EDosiLuRmVUYQDa247Rjn14ro7eZ5n5Kl+y418/9E3vPnbfV/GI6s/8A3rTJdZv50aKdrZ4yRuSSJSMqQwyM+RFdvy7quT9ND646S8fZmnbzJfylHFLc26prVH1bXoghl2xhhld8AGf7a7dP1fUri9tIJZIzHIXDBYwp4QsMHPwqHQklcmPyFKUlDe7Nm4qeKiprA9AjinFKUA4ocUoaAima1OTXNU6km2SIAO4VekDgAkYzmpTV9ekRpECvGh2u6wZUH7+fsrfQl5PNfyNK7W5fat/srWPT5Pvv8B677XPs1p69CLP/AJRWqzaxqhE0MzQEYeKaNol5VgQVYZzzyKhde1NVVVlgCqFAHSGAAMetT28ifylG1rM3Gnqa1Q6vr6okjhVjfGxjAMMD2I977qm21nVJLm1jeSIpLPDGwEYBKuwU4OajQla5C+RpN2sza6cUpWB6Q4qeKipoCPWozXCdzFBcSAAmOKRwD2JVSRmtU+XdX/62HkA8RD/WtIU3PwctfqoULZezbqh2VEdnOEVSzH0AGTwK1VdX8QOqyIoMbsERxANrEnA2nPOa6vl7Vve+mt/dPOYhgHvzzWi6eZzfkqX7LQQ3OuMDdJJBo/DR2kgKz347iS7B5WP9VO5/lY/NF2qhQoUAAAAAYAAHYACtR+XdVHaWE4Az9EMj+3Ndsmra9Dt622PcSAXgABx6c07eZd/KUpbWZtVTWt6bq2o3N7bwTPE0cgl3BYwpyqlgQc1smaynBwdmdNCvGvHKI4pxSlUNxXFlVwysAVYFSCAQQeCCDWu6jq+oQXk8MLRLHGQoBTcTxnJJNYya1rsrbIdkj43FY4QSBnGSc4raNGTV0cE+vpU5uLvdFhsl0Ikx75dFGS0SqXm00d90YHvNCOcjkr5ZUYS8BBAIwQQCCPPPOa1Ftb1pdnUaNN4bZ1IQu7HGQCfLmo+XdWx+mg44OY19PM5xVu3mQ/lKMvNzcKitUj1jXpd3RAk2DLlIAQuewPPf4V1/Lmr8/TReX80v+tO3mU/JUv2bhxTiuizlee1tJnxvlgikbHbcygnFd9YNW2PSi8ldE8VHFTSoJI4ocUocUAqKrtXvJ7K2SSDYHeVY8uu4AYJ4FUPy5q2R9JFkkAAQgk54wBnv6VrCjKaujjrdXToyxl5Lq8tbu1nbUtNXfI2PbrIEKl6g43IWIAlUfmnz7HyK85NYsRZxXURedrhzBaW8YxPNc8gw7G5BGDvzwuCTwM1Tyar4gjBMiqgVdzF4FAVc7QSc4qvS/liu5b2NLRbudArzCIbmUdyATtyf5RA5wM/m1ft5FV8pQe00/wDor+rGRjd3THf4VYi7sGmsrk3EidH2QNbiJiB0iAWDhtuMc9vOs/5nQ/vCf8OOo+ZkX7yuPwo61deLPMXQ1o+EYiXumKlspcFlfLPJCfo0aM7gCp7g/m/51i3FzZPBEkTHckzHHTCnp7i2ZPV/qwKtR4NiH9IT/bGn+tT8zoiQTqM58+Y0/wBahVYr2XfSV36RX319ZTJKIWyZbo3HuxtEMdJUPVLMcvx3GKnRZEbVdPAPJaXz9I2rP+Z0X7wm7Y/RJ9dZWneGYrC8t7v2yaUwh9qFEVSWQpliOfOjqxxaRMeiq6sZv0bDSlTXGe6RSlKAVB7ipoaA83llUSSjP85ID8Pe5rvNxayw2ge4kie1QxmNY2kWXMm/KFWABPnkeVXEnhGKR5H9vnXfI746aHG4lu9cfmdEOflCfyP6NPL7a7daNkjwOxqqTkkYr3+lkzPv3u9ws0YmhyqHqEknYQcEfHvXRPd6e0NxHFIxLzbosx7XYMFJ6h7Y4IXGPjWRfeG9P0+0ur261SeOC2jaSR+khIXGAqjuST2FTaeF7G+tra7tdWmltriMSxOsaYZGHxqFVgn5Lvo67j4Oie+sntpEV8ySQWUZAiZW3QAg9Zy20r6ACsaylU3+n4xzd2oHOe8i1cDwdCP6QnJznJjTNd1t4Tgguba4N7O/QmScJsRQzIdwBI8vWmtHFor2VaUk36NlpSlcZ7wqaipoDHvP4pe/+Hm/4DXnfUjKgbuSuD8M16RNGJYpoiSBJG8ZI7gMCua1f5nRcf8ASE/bH6NP7a6KNRQvc83rennWacfRgi8sDcWd21xIvS9lVrYROQgh4O1w23b5gYrkt7pirbr1NzIxy8sJ3JG0eGC7SOd3ass+DYv3jP8Ahx/dQeDYvPUZzn1jj/yrTVicq6WslayKu5urNorZYnbdHM2fc24j3FgZP98+eOK7b6+s5ldYnJ33klz7kTRKFZFXEm5jl/iMVYHwdEf6Rn7Y/Rp/rQeDos5+UJ/wkpqxKvo6zTW25haHIh1WzVTnIm8/LptW7iqDTfDUOn3kN37ZNK0SyKqMiKpLjbk45q/rCrNSd0eh0VCVGnjLkmlKVkdxo2tuq6neBjjlPP1UVj29xamG5gkmaHqyQSCVUMgxGSNrKpB88jmth1Dw3HqF1JcteSxl8ZVEQjj66wz4NiP9Iz9sfo467I1oqKTPDrdHUlVc4+zEhvdLVYFlmkbpQSQuGiBMis8jE8855Hn/AHVCXum5jLOB+T9OQRwkbCCCBDuJwx53ZyKzPmbECD8oznHrFHU/M6PGPlGf8OOo1Y8kdpXa8IqYri2e2hgkneBoZ5ZsohcShwMgbWBDDy+usYzR88/V2GePhV/8zov3hPnyPTTj0xzT5nRZOdQnxx2jjz35xV1XijOXQVZeUbBphB07TSOxtLcj7YxWXXVbQJa29tbIWKW8McKl8FiqKFBYgAZ+yu2uJu7ue9COMUiaUpUFyKGlDQFF4lYLZQMewuV/tVq1a2uooLm2mYblikViBgnHqB6jyrdtV0xdUt1t2maILIJAyAE5AI7HiqT5nRfvGf8ACjrqpVYxjZnk9X0k6tXOJWw3FhF11e7mkWYRDeIWBj2S9Q8SMQT6nFdz32mN1SDHkm2bPQOXlQKDu5/M9fP41mHwdF+8Jvw07elR8zYyc/KU/wAPoo+Ktqw5MV0tbhG2UpU1xnuEUpSgFKUoCaUpQEUpSgFKUNAKVTP4hsUd16NydrEZCx4OOMjLA1w+cmn8fQXPPwi/s9+tNKfByvq6KunIzdXVTpWr5AOLC9YZGeRC/rWRaBVtbUKFA6MZwoAHKg8AcVSXutWV1aXtqI7hDc209urERkKZY2TJG7412xa/ZRxQx9G5OxETOI+cKBn8+p0p8F+9o4WyL2lUp8RWPboXOcZHEfP/AN1covEFjNNDCsVwDLIkYLBMAscDOGJqNOS9Fe7o3tkXFKelKzOkVNRU0BFKUoBSlKAUqaigFKUoBSlKAUpSgFKUoBSpqKAUpSgJpSlARSlKAUpSgFKmooBU1FKAUpSgFKUoCaVFKAUpSgFDSoOaEPdHnkhXqS8j8+TP/mrMSNha2zQW0UyyqxuZGAdo3En5u7cNoAxjjnNY8+i+ITLMUsiQZXZW6sY4Jz5muv5E8S8/kLYPfE0fP14NehqKy3Pmu2mpyeBZzWMO+6kZpI0FzhemUcNEzsmEQHOQR6/ZWLPbCGC5kUuXhl2YZlKqDjaQeNx55HGPsrH+RfEX7C/fP6aPvxz3p8i+Iv2Jzk5OZo+58zk01FyS6En4gZc8bJCvSgja16MEntQAZmdgNxL7u+eMYrosyPbdP5H8btwBn/4i1w+RfEXb2F8dz9LHjPrjNd1lo3iBb6weSz2RR3UEkjtLHhURgx4HPlR1FZq5VdNNzTxN79KmoHaprzz6YVNRU0JIpSlAKU5pzQE1FOaUApSlAKU5pzQClKUApSlATUUpQClKUBNKilAKUpzQClOac0BNRU81HNAcXdI0kkkYKkas7seyqoySaI6SJHJGwZJFV0YHhlYZBB+NaebPWBcxWksdzKVsltldZZelvMUyBnkJ2mIApuyMlhnnFWum6fqNtedW4d2RYtqsk/0RQxRIsJhI/kFWweO/xq7il7KKV/RcxSxTLvidXTc6bkOV3IxRhntwQQfqqIpop445oXDxSKHjdc4ZfUVQQ6Tqce1iyq0UtvLbiO4lCrnU7i5mO3hSWjYA5HJ47DNdA0XVobeGKJ8RiGz9qt4rqQCeSN5d4R5O2AVI8jjkcUsuRk+DZpJoojEJHCmWRYYt2ffkYEhRjz4Nc1ZXCupDIwBVlOQQexBHFUMel6ks6ytNIx9psVbq3Ujt7FFa9ORGwAu4tknAGe9YtvpmuQxaPFHHBALG2jhLx3UrMxEckcnf3cMdrLxxz6CoxXIyfBtX30rWU0nVYTAD+UWym1ea2N7OhklW2WN5OoeeGBOM4Oc96zdKstRt7q7lu5JHLiUGQT7opt0xdG6JGQVHHf4fUsTcuahiFBJICgFmJOAABySTU103SSSW9zHHgSSQTIhJwA7IVGTVSxxF3ZmO2l68RiunjS2feuydpBuURkd8jOPqrnJPBE0SSyIjTMyRByAXZVMhx9QBJ+qtfj0G6jGnL1ITFZy2slnbgELZsfeunRu5JOen2wCQO9dY0nXJooY7npYjtvZjuuZJMkadLamQHGRuYqTznHer4oo2zYva7QSpAZ4xO7BUjz7zEoZcKPqBNd3PxrVjo2sFIxA0dqyx/QYuJJfZZfkyWz3RZ/3mH2DPeu+PTNVzZ9OSWCKSZ0vY5btpWitRtlQW7IAM7hjnyY+tHFchSZfyTRRNCruFaZzFCpPLyBGk2r9gJ+yiSxSGVY3VzDIYpQpzscANtbHngg/bVBaabqyTWElwxZoL1ZrhnuOokoFvcRmWJCMgkuvGewpcaTqUk2oyIyKsr6lPbdO4mj/KJUs0gkcJjldknrjI9eIxROTL+KWKYM0Th1V3jYqcjeh2sv2VE0sUCPJM6xxKV3M/AGSFHP21rz6Tqyic28ixSTvfyT7biQCRZLqOZFC/mglQwJAHfHauXyVqZWWQSTI62trFaLLeO5gb2uSaYe5hD7pVVOPLHxLFckZPg2JWVgSpDAEqSpyNykqw+sEYNcq1gaXq0XSit4YI0TU7u9EouZi5Et97QDtPGChKkEHkenNDpOsKAdwlVlie8g9snX2tlnuGKCQnI4ZDxjO3B4piuScnwbPU1RWdjqUeotcTtL0veaMpc7o0iaFI1tniYZOwgndkZ79yavahqxKIpSlQSDWObu02LJ7RFseWSBG3qA0sZcMin1BVsj4Gsg1ro0e/VbV+s5ePV9RvWiM56CQzPctGUAXO/wB5SfiTUpXIZfxukqRyxsGjkRXRgSQysMhgfjXP/wDfOtW+SdeK3AM8nWeziijljvHSNR0reN4WUDdwVkKsP1s9zxzuNK1h5rgWuyC39nktYyl3OJHiLWzRl2JLBhtkGf8Ae+NWxXJXJ8GxSyxQqHldUUuiAucAu7BVX7TQTQmV4A4MqRrKyZ94IxKhiPjg/dVBJpN873kJRXiku7R4p2u5siyilif2cRk8FQGwQefrPHBtM1pF25E0CNH+Te1zRmaJZrhumZDyMB0Oc87ceVRiuScv0bFNNDboZZ5FjjDIpZzgbnYIo+0kAUEsRkkhEiGaNUeSMHLor5Clh8cHH1Vrtxpms3E05EdtFC6xRhRcSuHEVzayxs27PvKquOw5PxrJu9MurnUJZcqLWaSwEwWaSOSSGCO4V0bZg4y6458vhSyIuy5SaKR540cM8DIkyr3RmRZAD9hB+2uTsqK7sdqIpZmPACgZJNa1Fo+sxhZRcIl6fZ0acTSsNqaW1qzFex+kwfXjOeK5R6VqeIAzyoIor07JL2SRfaHhjiiddgHu5DMQc4Jz50xXIyfBsUcscoDRsrgqre6c8MAwJ8+RyK5/fWrTaVrHT1FIYYDJdiBmmN1MGWRbHo7gue6vyDk8eXp2TaXrbm6eO42XE7Xqs4uZcGCSGMRoB2HvA8gAjOfOmK5GT4NlpWvR6fqXtljLtlgto1gKQRXpPsvTeQyKxYHeJMjP1Y8q2GoasWTuKUpUEk1FTUUBDMiK7uyqiKWZmOAqgZJJro9sstlrL7RD07tkS1fqLtnaRS6iI55yASMelcrtJJbW8jix1JLeZI9x2jeyEDJqgXQbuMWQSWEx2bwGyhAZVst6H2hkbPJJ/M7YGQO9WSXsq7l/LcW8LRLLKkbTFxEGOCxRTI2M+gBJ+qpSaKR5YkcNJDs6ig5KbxuXP1jtzWtHStduYtlz0gRbyQYa5eTk6Y1pv3ADG58E48ufhXGbTtVj9miS3keGaTJtUvZlhi2ad0z1JQcgb+Vx6Z4NTiuSLs2iOaGVp1jdXMEnRmCnJSQKr7W+OCD9tBLEZTDvUyrGsrIG94RsSoYj0JBH2VrfyRrKt70zSBpy8rW9x0JWl6FrELosV/O9x+Oe/wAazb3Try4vmlRgIHTSo5isrxyOlvPcyyodnODvTz557Y5iy5Fy7pSlULilKVIFKUoBSlKAUpSgFKUqAKUpQClKUApSlSBSlKhgVNKVIIpSlAKUpQClKUApSlAKUpQClKUApSlAKUpQClKUBNRSlAKUpQkUpSoIFKUqQf/Z\"/>"
            ],
            "text/plain": [
              "<IPython.core.display.Image object>"
            ]
          },
          "metadata": {},
          "execution_count": 2
        }
      ]
    },
    {
      "cell_type": "code",
      "source": [
        "sqrt(16)"
      ],
      "metadata": {
        "colab": {
          "base_uri": "https://localhost:8080/",
          "height": 175
        },
        "id": "og6T9JxWsuRt",
        "outputId": "f622037e-1324-4347-f758-2f897fc66ff4"
      },
      "execution_count": null,
      "outputs": [
        {
          "output_type": "error",
          "ename": "NameError",
          "evalue": "ignored",
          "traceback": [
            "\u001b[0;31m---------------------------------------------------------------------------\u001b[0m",
            "\u001b[0;31mNameError\u001b[0m                                 Traceback (most recent call last)",
            "\u001b[0;32m<ipython-input-3-dfd1b01e9a51>\u001b[0m in \u001b[0;36m<cell line: 1>\u001b[0;34m()\u001b[0m\n\u001b[0;32m----> 1\u001b[0;31m \u001b[0msqrt\u001b[0m\u001b[0;34m(\u001b[0m\u001b[0;36m16\u001b[0m\u001b[0;34m)\u001b[0m\u001b[0;34m\u001b[0m\u001b[0;34m\u001b[0m\u001b[0m\n\u001b[0m",
            "\u001b[0;31mNameError\u001b[0m: name 'sqrt' is not defined"
          ]
        }
      ]
    },
    {
      "cell_type": "code",
      "source": [
        "abs(-4.7)"
      ],
      "metadata": {
        "colab": {
          "base_uri": "https://localhost:8080/"
        },
        "id": "gxg_hchzsvnK",
        "outputId": "bf513343-3be2-4de3-82c4-2a2f5719b4dd"
      },
      "execution_count": null,
      "outputs": [
        {
          "output_type": "execute_result",
          "data": {
            "text/plain": [
              "4.7"
            ]
          },
          "metadata": {},
          "execution_count": 4
        }
      ]
    },
    {
      "cell_type": "code",
      "source": [
        "!pip install numpy\n"
      ],
      "metadata": {
        "id": "qxtlaQECtEOw",
        "colab": {
          "base_uri": "https://localhost:8080/"
        },
        "outputId": "40e4507c-dd40-404b-c0d3-a10d88284973"
      },
      "execution_count": null,
      "outputs": [
        {
          "output_type": "stream",
          "name": "stdout",
          "text": [
            "Requirement already satisfied: numpy in /usr/local/lib/python3.10/dist-packages (1.23.5)\n"
          ]
        }
      ]
    },
    {
      "cell_type": "code",
      "source": [
        "!pip show numpy"
      ],
      "metadata": {
        "id": "0bRUMJjntIxV",
        "colab": {
          "base_uri": "https://localhost:8080/"
        },
        "outputId": "5983818b-0f4a-4645-d97f-94351d5b6ac3"
      },
      "execution_count": null,
      "outputs": [
        {
          "output_type": "stream",
          "name": "stdout",
          "text": [
            "Name: numpy\n",
            "Version: 1.23.5\n",
            "Summary: NumPy is the fundamental package for array computing with Python.\n",
            "Home-page: https://www.numpy.org\n",
            "Author: Travis E. Oliphant et al.\n",
            "Author-email: \n",
            "License: BSD\n",
            "Location: /usr/local/lib/python3.10/dist-packages\n",
            "Requires: \n",
            "Required-by: albumentations, altair, arviz, astropy, autograd, blis, bokeh, bqplot, chex, cmdstanpy, contourpy, cufflinks, cupy-cuda11x, cvxpy, datascience, db-dtypes, dopamine-rl, ecos, flax, folium, geemap, gensim, gym, h5py, holoviews, hyperopt, imageio, imbalanced-learn, imgaug, jax, jaxlib, librosa, lightgbm, matplotlib, matplotlib-venn, missingno, mizani, ml-dtypes, mlxtend, moviepy, music21, nibabel, numba, numexpr, opencv-contrib-python, opencv-python, opencv-python-headless, opt-einsum, optax, orbax-checkpoint, osqp, pandas, pandas-gbq, patsy, plotnine, prophet, pyarrow, pycocotools, pyerfa, pymc, pytensor, python-louvain, PyWavelets, qdldl, qudida, scikit-image, scikit-learn, scipy, scs, seaborn, shapely, sklearn-pandas, soxr, spacy, stanio, statsmodels, tables, tensorboard, tensorflow, tensorflow-datasets, tensorflow-hub, tensorflow-probability, tensorstore, thinc, tifffile, torchtext, torchvision, wordcloud, xarray, xarray-einstats, xgboost, yellowbrick, yfinance\n"
          ]
        }
      ]
    },
    {
      "cell_type": "code",
      "source": [
        "import numpy as np"
      ],
      "metadata": {
        "id": "2-ODF9QSnPhg"
      },
      "execution_count": null,
      "outputs": []
    },
    {
      "cell_type": "code",
      "source": [
        "np.__version__"
      ],
      "metadata": {
        "colab": {
          "base_uri": "https://localhost:8080/",
          "height": 36
        },
        "id": "zejfyxKjnm93",
        "outputId": "91678c63-1753-4223-95d4-fcea1e263ddb"
      },
      "execution_count": null,
      "outputs": [
        {
          "output_type": "execute_result",
          "data": {
            "text/plain": [
              "'1.23.5'"
            ],
            "application/vnd.google.colaboratory.intrinsic+json": {
              "type": "string"
            }
          },
          "metadata": {},
          "execution_count": 4
        }
      ]
    },
    {
      "cell_type": "code",
      "source": [
        "!pip install np --upgrade"
      ],
      "metadata": {
        "colab": {
          "base_uri": "https://localhost:8080/"
        },
        "id": "kkwS-ysmn1Pw",
        "outputId": "69e0cfea-c3ad-4890-b686-a21a703f76aa"
      },
      "execution_count": null,
      "outputs": [
        {
          "output_type": "stream",
          "name": "stdout",
          "text": [
            "Collecting np\n",
            "  Downloading np-1.0.2.tar.gz (7.4 kB)\n",
            "  Preparing metadata (setup.py) ... \u001b[?25l\u001b[?25hdone\n",
            "Building wheels for collected packages: np\n",
            "  Building wheel for np (setup.py) ... \u001b[?25l\u001b[?25hdone\n",
            "  Created wheel for np: filename=np-1.0.2-py3-none-any.whl size=13657 sha256=313c49ba5e7eac762f25e0f31a52f0eb8d09f5c0a6d8ae5a2750e8a81d59f277\n",
            "  Stored in directory: /root/.cache/pip/wheels/f9/e1/79/c4580a03022dece233bc146286fc9082a8885ee1a7c8d8b980\n",
            "Successfully built np\n",
            "Installing collected packages: np\n",
            "Successfully installed np-1.0.2\n"
          ]
        }
      ]
    },
    {
      "cell_type": "code",
      "source": [
        "list=[1,2,3,4]\n",
        "list2=[]\n",
        "for i in list:\n",
        "  list2.append(i*2)\n",
        "print(list2)\n",
        "\n"
      ],
      "metadata": {
        "colab": {
          "base_uri": "https://localhost:8080/"
        },
        "id": "aGSbg-aboCXT",
        "outputId": "d7fe49c8-ab38-4012-c43f-b1a2958186c3"
      },
      "execution_count": null,
      "outputs": [
        {
          "output_type": "stream",
          "name": "stdout",
          "text": [
            "[2, 4, 6, 8]\n"
          ]
        }
      ]
    },
    {
      "cell_type": "code",
      "source": [
        "import array as ar\n",
        "list1=[1,2,3,4,5]"
      ],
      "metadata": {
        "id": "bkQCuM0Mo-Ss"
      },
      "execution_count": null,
      "outputs": []
    },
    {
      "cell_type": "code",
      "source": [
        "ar=np.array(list1)\n",
        "print(ar)"
      ],
      "metadata": {
        "colab": {
          "base_uri": "https://localhost:8080/"
        },
        "id": "cvOJJCWmwRGR",
        "outputId": "0d009928-f08f-49d5-f211-5657195488f5"
      },
      "execution_count": null,
      "outputs": [
        {
          "output_type": "stream",
          "name": "stdout",
          "text": [
            "[1 2 3 4 5]\n"
          ]
        }
      ]
    },
    {
      "cell_type": "code",
      "source": [
        "type(ar)"
      ],
      "metadata": {
        "colab": {
          "base_uri": "https://localhost:8080/"
        },
        "id": "PSYvKyO4wT4c",
        "outputId": "0cc6976f-7619-4108-9495-fda2018080b9"
      },
      "execution_count": null,
      "outputs": [
        {
          "output_type": "execute_result",
          "data": {
            "text/plain": [
              "numpy.ndarray"
            ]
          },
          "metadata": {},
          "execution_count": 23
        }
      ]
    },
    {
      "cell_type": "code",
      "source": [
        "print(type(ar))"
      ],
      "metadata": {
        "colab": {
          "base_uri": "https://localhost:8080/"
        },
        "id": "fYCt1rIkwewn",
        "outputId": "99953fbe-d341-428f-c269-200c3051967b"
      },
      "execution_count": null,
      "outputs": [
        {
          "output_type": "stream",
          "name": "stdout",
          "text": [
            "<class 'numpy.ndarray'>\n"
          ]
        }
      ]
    },
    {
      "cell_type": "code",
      "source": [
        "ar"
      ],
      "metadata": {
        "colab": {
          "base_uri": "https://localhost:8080/"
        },
        "id": "1MDlXd2XwhJZ",
        "outputId": "ad1811e4-788f-4001-cb79-34b62a829387"
      },
      "execution_count": null,
      "outputs": [
        {
          "output_type": "execute_result",
          "data": {
            "text/plain": [
              "array([1, 2, 3, 4, 5])"
            ]
          },
          "metadata": {},
          "execution_count": 25
        }
      ]
    },
    {
      "cell_type": "code",
      "source": [
        "ar*2"
      ],
      "metadata": {
        "colab": {
          "base_uri": "https://localhost:8080/"
        },
        "id": "uyI9G_ptwnoS",
        "outputId": "81fffa30-b012-4870-fc22-4e487f433388"
      },
      "execution_count": null,
      "outputs": [
        {
          "output_type": "execute_result",
          "data": {
            "text/plain": [
              "array([ 2,  4,  6,  8, 10])"
            ]
          },
          "metadata": {},
          "execution_count": 26
        }
      ]
    },
    {
      "cell_type": "code",
      "source": [
        "np.zeros(10,dtype=int)"
      ],
      "metadata": {
        "colab": {
          "base_uri": "https://localhost:8080/"
        },
        "id": "97GCR-6lwr4c",
        "outputId": "2e0b5535-36b3-43bc-ea75-0bbfbb507340"
      },
      "execution_count": null,
      "outputs": [
        {
          "output_type": "execute_result",
          "data": {
            "text/plain": [
              "array([0, 0, 0, 0, 0, 0, 0, 0, 0, 0])"
            ]
          },
          "metadata": {},
          "execution_count": 27
        }
      ]
    },
    {
      "cell_type": "code",
      "source": [
        "np.ones(10,dtype=int)"
      ],
      "metadata": {
        "colab": {
          "base_uri": "https://localhost:8080/"
        },
        "id": "pLBSyCfsxVcC",
        "outputId": "31d0b813-91b2-4792-b83d-9c315fdd2f07"
      },
      "execution_count": null,
      "outputs": [
        {
          "output_type": "execute_result",
          "data": {
            "text/plain": [
              "array([1, 1, 1, 1, 1, 1, 1, 1, 1, 1])"
            ]
          },
          "metadata": {},
          "execution_count": 28
        }
      ]
    },
    {
      "cell_type": "code",
      "source": [
        "np.ones(10,dtype=float)*7\n"
      ],
      "metadata": {
        "colab": {
          "base_uri": "https://localhost:8080/"
        },
        "id": "0J-9UQcMxpuA",
        "outputId": "85f27819-1523-4d7e-ad05-fd7392f614d4"
      },
      "execution_count": null,
      "outputs": [
        {
          "output_type": "execute_result",
          "data": {
            "text/plain": [
              "array([7., 7., 7., 7., 7., 7., 7., 7., 7., 7.])"
            ]
          },
          "metadata": {},
          "execution_count": 32
        }
      ]
    },
    {
      "cell_type": "code",
      "source": [
        "?np.zeros"
      ],
      "metadata": {
        "id": "Ub1HQAkJxue_"
      },
      "execution_count": null,
      "outputs": []
    },
    {
      "cell_type": "code",
      "source": [
        "ar1=np.ones((7,5),dtype=int)*4"
      ],
      "metadata": {
        "id": "zxAakoeHyDwX"
      },
      "execution_count": null,
      "outputs": []
    },
    {
      "cell_type": "code",
      "source": [
        "ar1.shape"
      ],
      "metadata": {
        "colab": {
          "base_uri": "https://localhost:8080/"
        },
        "id": "UdWLwmudyVWl",
        "outputId": "1564752f-be93-413e-b8ec-92675d91d10d"
      },
      "execution_count": null,
      "outputs": [
        {
          "output_type": "execute_result",
          "data": {
            "text/plain": [
              "(7, 5)"
            ]
          },
          "metadata": {},
          "execution_count": 41
        }
      ]
    },
    {
      "cell_type": "code",
      "source": [
        "ar1.ndim"
      ],
      "metadata": {
        "colab": {
          "base_uri": "https://localhost:8080/"
        },
        "id": "DKcZh8h7zzdK",
        "outputId": "ff6c3fc7-7e7f-419e-f3a2-963d85c9b53f"
      },
      "execution_count": null,
      "outputs": [
        {
          "output_type": "execute_result",
          "data": {
            "text/plain": [
              "2"
            ]
          },
          "metadata": {},
          "execution_count": 42
        }
      ]
    },
    {
      "cell_type": "code",
      "source": [
        "ar1.itemsize"
      ],
      "metadata": {
        "colab": {
          "base_uri": "https://localhost:8080/"
        },
        "id": "Rz0CESQO0fTS",
        "outputId": "7d10ac65-bb3c-455f-81be-43fb40ce647c"
      },
      "execution_count": null,
      "outputs": [
        {
          "output_type": "execute_result",
          "data": {
            "text/plain": [
              "8"
            ]
          },
          "metadata": {},
          "execution_count": 43
        }
      ]
    },
    {
      "cell_type": "code",
      "source": [
        "ar2=np.ones((5,6,7),dtype=int)+4\n",
        "ar2"
      ],
      "metadata": {
        "colab": {
          "base_uri": "https://localhost:8080/"
        },
        "id": "oVSGrkV-0hnD",
        "outputId": "3fdccb8b-d583-4eef-f9e4-39a1d04f7a6b"
      },
      "execution_count": null,
      "outputs": [
        {
          "output_type": "execute_result",
          "data": {
            "text/plain": [
              "array([[[5, 5, 5, 5, 5, 5, 5],\n",
              "        [5, 5, 5, 5, 5, 5, 5],\n",
              "        [5, 5, 5, 5, 5, 5, 5],\n",
              "        [5, 5, 5, 5, 5, 5, 5],\n",
              "        [5, 5, 5, 5, 5, 5, 5],\n",
              "        [5, 5, 5, 5, 5, 5, 5]],\n",
              "\n",
              "       [[5, 5, 5, 5, 5, 5, 5],\n",
              "        [5, 5, 5, 5, 5, 5, 5],\n",
              "        [5, 5, 5, 5, 5, 5, 5],\n",
              "        [5, 5, 5, 5, 5, 5, 5],\n",
              "        [5, 5, 5, 5, 5, 5, 5],\n",
              "        [5, 5, 5, 5, 5, 5, 5]],\n",
              "\n",
              "       [[5, 5, 5, 5, 5, 5, 5],\n",
              "        [5, 5, 5, 5, 5, 5, 5],\n",
              "        [5, 5, 5, 5, 5, 5, 5],\n",
              "        [5, 5, 5, 5, 5, 5, 5],\n",
              "        [5, 5, 5, 5, 5, 5, 5],\n",
              "        [5, 5, 5, 5, 5, 5, 5]],\n",
              "\n",
              "       [[5, 5, 5, 5, 5, 5, 5],\n",
              "        [5, 5, 5, 5, 5, 5, 5],\n",
              "        [5, 5, 5, 5, 5, 5, 5],\n",
              "        [5, 5, 5, 5, 5, 5, 5],\n",
              "        [5, 5, 5, 5, 5, 5, 5],\n",
              "        [5, 5, 5, 5, 5, 5, 5]],\n",
              "\n",
              "       [[5, 5, 5, 5, 5, 5, 5],\n",
              "        [5, 5, 5, 5, 5, 5, 5],\n",
              "        [5, 5, 5, 5, 5, 5, 5],\n",
              "        [5, 5, 5, 5, 5, 5, 5],\n",
              "        [5, 5, 5, 5, 5, 5, 5],\n",
              "        [5, 5, 5, 5, 5, 5, 5]]])"
            ]
          },
          "metadata": {},
          "execution_count": 47
        }
      ]
    },
    {
      "cell_type": "code",
      "source": [
        "ar2.ndim"
      ],
      "metadata": {
        "colab": {
          "base_uri": "https://localhost:8080/"
        },
        "id": "STclLlvQ1Fug",
        "outputId": "87037a19-ec59-4d9a-940c-4b8ff07a7286"
      },
      "execution_count": null,
      "outputs": [
        {
          "output_type": "execute_result",
          "data": {
            "text/plain": [
              "3"
            ]
          },
          "metadata": {},
          "execution_count": 48
        }
      ]
    },
    {
      "cell_type": "code",
      "source": [
        "ar2.itemsize"
      ],
      "metadata": {
        "colab": {
          "base_uri": "https://localhost:8080/"
        },
        "id": "OyhmdRb11hDX",
        "outputId": "6c83c782-a58a-4bda-c4e4-b968e5dbc64f"
      },
      "execution_count": null,
      "outputs": [
        {
          "output_type": "execute_result",
          "data": {
            "text/plain": [
              "8"
            ]
          },
          "metadata": {},
          "execution_count": 49
        }
      ]
    },
    {
      "cell_type": "code",
      "source": [
        "ar2.shape"
      ],
      "metadata": {
        "colab": {
          "base_uri": "https://localhost:8080/"
        },
        "id": "hPgjHt2R1jNQ",
        "outputId": "0e6285f9-7420-45df-dea9-c565017a20ac"
      },
      "execution_count": null,
      "outputs": [
        {
          "output_type": "execute_result",
          "data": {
            "text/plain": [
              "(5, 6, 7)"
            ]
          },
          "metadata": {},
          "execution_count": 50
        }
      ]
    },
    {
      "cell_type": "code",
      "source": [
        "ar2.dtype"
      ],
      "metadata": {
        "colab": {
          "base_uri": "https://localhost:8080/"
        },
        "id": "RU6K5dmj1sj1",
        "outputId": "fa60298a-d74c-4b30-b9fc-26dab350438f"
      },
      "execution_count": null,
      "outputs": [
        {
          "output_type": "execute_result",
          "data": {
            "text/plain": [
              "dtype('int64')"
            ]
          },
          "metadata": {},
          "execution_count": 51
        }
      ]
    },
    {
      "cell_type": "code",
      "source": [
        "ar3=np.random.randint(10,50,(3,4))\n",
        "ar3"
      ],
      "metadata": {
        "colab": {
          "base_uri": "https://localhost:8080/"
        },
        "id": "SzOdqhpm1xJG",
        "outputId": "7372d975-a4b1-435f-91e2-105f92675102"
      },
      "execution_count": null,
      "outputs": [
        {
          "output_type": "execute_result",
          "data": {
            "text/plain": [
              "array([[49, 33, 12, 31],\n",
              "       [11, 33, 39, 47],\n",
              "       [11, 30, 42, 21]])"
            ]
          },
          "metadata": {},
          "execution_count": 59
        }
      ]
    },
    {
      "cell_type": "code",
      "source": [
        "np.random.seed(21)\n",
        "ar4= np.random.randint(10, 50, (3, 4))\n",
        "ar4\n"
      ],
      "metadata": {
        "colab": {
          "base_uri": "https://localhost:8080/"
        },
        "id": "EwhQoTcA2kUX",
        "outputId": "7ddc8f95-3514-4097-d737-3b1e6a1ee70a"
      },
      "execution_count": null,
      "outputs": [
        {
          "output_type": "execute_result",
          "data": {
            "text/plain": [
              "array([[[0.38681643, 0.41035418, 0.81015755, 0.60036927],\n",
              "        [0.89834034, 0.49003223, 0.82831813, 0.85888947],\n",
              "        [0.78844514, 0.88765544, 0.69886079, 0.45439031]],\n",
              "\n",
              "       [[0.30591516, 0.8200844 , 0.13966466, 0.4012965 ],\n",
              "        [0.23121231, 0.59045776, 0.88626806, 0.32774159],\n",
              "        [0.80460965, 0.79745284, 0.66569365, 0.2441125 ]]])"
            ]
          },
          "metadata": {},
          "execution_count": 78
        }
      ]
    },
    {
      "cell_type": "code",
      "source": [
        "ar5=np.random.rand(2,2,2)\n",
        "ar5"
      ],
      "metadata": {
        "colab": {
          "base_uri": "https://localhost:8080/"
        },
        "id": "aNLgT38625bn",
        "outputId": "0aa25387-88d1-4da0-85c6-311005c28a59"
      },
      "execution_count": null,
      "outputs": [
        {
          "output_type": "execute_result",
          "data": {
            "text/plain": [
              "array([[[0.38681643, 0.41035418],\n",
              "        [0.81015755, 0.60036927]],\n",
              "\n",
              "       [[0.89834034, 0.49003223],\n",
              "        [0.82831813, 0.85888947]]])"
            ]
          },
          "metadata": {},
          "execution_count": 81
        }
      ]
    },
    {
      "cell_type": "code",
      "source": [
        "ar5.ndim"
      ],
      "metadata": {
        "colab": {
          "base_uri": "https://localhost:8080/"
        },
        "id": "z9fcCDX23FuY",
        "outputId": "7f1a1bb1-988c-48cc-859a-dfac61500163"
      },
      "execution_count": null,
      "outputs": [
        {
          "output_type": "execute_result",
          "data": {
            "text/plain": [
              "3"
            ]
          },
          "metadata": {},
          "execution_count": 82
        }
      ]
    },
    {
      "cell_type": "code",
      "source": [
        "ar6=[1,2,3,4,5,6,7,8,9]\n",
        "ar6=np.arange(9)\n",
        "ar6"
      ],
      "metadata": {
        "colab": {
          "base_uri": "https://localhost:8080/"
        },
        "id": "nQBP7Pw56PcH",
        "outputId": "1f142573-d500-4d54-a764-2df45b4f719b"
      },
      "execution_count": null,
      "outputs": [
        {
          "output_type": "execute_result",
          "data": {
            "text/plain": [
              "array([0, 1, 2, 3, 4, 5, 6, 7, 8])"
            ]
          },
          "metadata": {},
          "execution_count": 85
        }
      ]
    },
    {
      "cell_type": "code",
      "source": [
        "ar6.reshape(1,9)"
      ],
      "metadata": {
        "colab": {
          "base_uri": "https://localhost:8080/"
        },
        "id": "b9WOqEYT74Gg",
        "outputId": "d24c1e31-4650-4108-b8ed-1f050daff140"
      },
      "execution_count": null,
      "outputs": [
        {
          "output_type": "execute_result",
          "data": {
            "text/plain": [
              "array([[0, 1, 2, 3, 4, 5, 6, 7, 8]])"
            ]
          },
          "metadata": {},
          "execution_count": 86
        }
      ]
    },
    {
      "cell_type": "code",
      "source": [
        "ar6.min() , ar6.max() , ar6.mean() , ar6.sum() , ar6.std()"
      ],
      "metadata": {
        "colab": {
          "base_uri": "https://localhost:8080/"
        },
        "id": "Tf22bUGL7_h6",
        "outputId": "5140a56a-692f-46b4-d3b9-a43da988059c"
      },
      "execution_count": null,
      "outputs": [
        {
          "output_type": "execute_result",
          "data": {
            "text/plain": [
              "(0, 8, 4.0, 36, 2.581988897471611)"
            ]
          },
          "metadata": {},
          "execution_count": 91
        }
      ]
    },
    {
      "cell_type": "code",
      "source": [
        "ar7=np.random.randint(10,50,(3,3))\n",
        "ar7"
      ],
      "metadata": {
        "id": "1fF_8xEc8ugR",
        "colab": {
          "base_uri": "https://localhost:8080/"
        },
        "outputId": "f2f39dd8-23fd-4cfa-ccef-174dfce5909e"
      },
      "execution_count": null,
      "outputs": [
        {
          "output_type": "execute_result",
          "data": {
            "text/plain": [
              "array([[24, 30, 12],\n",
              "       [19, 47, 15],\n",
              "       [19, 43, 39]])"
            ]
          },
          "metadata": {},
          "execution_count": 108
        }
      ]
    },
    {
      "cell_type": "code",
      "source": [
        "ar7.ndim"
      ],
      "metadata": {
        "colab": {
          "base_uri": "https://localhost:8080/"
        },
        "id": "1gjyI4Qn_KCT",
        "outputId": "ee07831f-1b12-46c4-893d-1f6dc4ed0709"
      },
      "execution_count": null,
      "outputs": [
        {
          "output_type": "execute_result",
          "data": {
            "text/plain": [
              "2"
            ]
          },
          "metadata": {},
          "execution_count": 109
        }
      ]
    },
    {
      "cell_type": "code",
      "source": [
        "import array as ar\n",
        "import numpy as np"
      ],
      "metadata": {
        "id": "6B4HefJC2aN1"
      },
      "execution_count": 2,
      "outputs": []
    },
    {
      "cell_type": "code",
      "source": [
        "ar8=np.array([1,2,3,4,5])\n",
        "ar8"
      ],
      "metadata": {
        "id": "hpxgYyHX_L5b",
        "colab": {
          "base_uri": "https://localhost:8080/"
        },
        "outputId": "001d24c9-6b9c-4a10-b29a-f93ad679da8e"
      },
      "execution_count": 3,
      "outputs": [
        {
          "output_type": "execute_result",
          "data": {
            "text/plain": [
              "array([1, 2, 3, 4, 5])"
            ]
          },
          "metadata": {},
          "execution_count": 3
        }
      ]
    },
    {
      "cell_type": "code",
      "source": [
        "ar9=np.array([])\n",
        "ar9\n",
        "ar9.ndim\n"
      ],
      "metadata": {
        "colab": {
          "base_uri": "https://localhost:8080/"
        },
        "id": "kTGjfOTh2JGW",
        "outputId": "77f33c62-1f0f-4bf7-8d67-01d3c383c76e"
      },
      "execution_count": 5,
      "outputs": [
        {
          "output_type": "execute_result",
          "data": {
            "text/plain": [
              "1"
            ]
          },
          "metadata": {},
          "execution_count": 5
        }
      ]
    },
    {
      "cell_type": "code",
      "source": [
        "np.full((2,3),'naresh')"
      ],
      "metadata": {
        "colab": {
          "base_uri": "https://localhost:8080/"
        },
        "id": "UdSF3pTG2gmn",
        "outputId": "bafda64e-1df1-4607-c93c-8b97b9ffe2cf"
      },
      "execution_count": 6,
      "outputs": [
        {
          "output_type": "execute_result",
          "data": {
            "text/plain": [
              "array([['naresh', 'naresh', 'naresh'],\n",
              "       ['naresh', 'naresh', 'naresh']], dtype='<U6')"
            ]
          },
          "metadata": {},
          "execution_count": 6
        }
      ]
    },
    {
      "cell_type": "code",
      "source": [
        "ar9=np.random.randint(10,20,(3,3),dtype=\"int\")\n",
        "ar9"
      ],
      "metadata": {
        "colab": {
          "base_uri": "https://localhost:8080/"
        },
        "id": "8V5puVmt5WL7",
        "outputId": "c90be650-5fe6-485a-aaf7-05d5524a6cd5"
      },
      "execution_count": 8,
      "outputs": [
        {
          "output_type": "execute_result",
          "data": {
            "text/plain": [
              "array([[14, 19, 14],\n",
              "       [11, 10, 15],\n",
              "       [14, 14, 17]])"
            ]
          },
          "metadata": {},
          "execution_count": 8
        }
      ]
    },
    {
      "cell_type": "code",
      "source": [
        "ar10=np.random.randint(10,20,(3,3))\n",
        "ar10\n"
      ],
      "metadata": {
        "colab": {
          "base_uri": "https://localhost:8080/"
        },
        "id": "IwhKfQQy74hy",
        "outputId": "d045d284-3ed4-45f3-cf93-e81c84965d14"
      },
      "execution_count": 31,
      "outputs": [
        {
          "output_type": "execute_result",
          "data": {
            "text/plain": [
              "array([[14, 17, 12],\n",
              "       [12, 18, 15],\n",
              "       [12, 16, 13]])"
            ]
          },
          "metadata": {},
          "execution_count": 31
        }
      ]
    },
    {
      "cell_type": "code",
      "source": [
        "ar9*ar10"
      ],
      "metadata": {
        "colab": {
          "base_uri": "https://localhost:8080/"
        },
        "id": "KfoBMeIG8Azg",
        "outputId": "acbab1b3-a742-4d28-9fab-b57c870715d9"
      },
      "execution_count": 12,
      "outputs": [
        {
          "output_type": "execute_result",
          "data": {
            "text/plain": [
              "array([[252, 342, 196],\n",
              "       [143, 180, 165],\n",
              "       [252, 154, 289]])"
            ]
          },
          "metadata": {},
          "execution_count": 12
        }
      ]
    },
    {
      "cell_type": "code",
      "source": [
        "ar10[-1][-1]"
      ],
      "metadata": {
        "colab": {
          "base_uri": "https://localhost:8080/"
        },
        "id": "OlkhC2IlMCwg",
        "outputId": "61382462-dd97-4544-8bf3-fbd6ec33666a"
      },
      "execution_count": 33,
      "outputs": [
        {
          "output_type": "execute_result",
          "data": {
            "text/plain": [
              "13"
            ]
          },
          "metadata": {},
          "execution_count": 33
        }
      ]
    },
    {
      "cell_type": "code",
      "source": [
        "ar10[1][2]"
      ],
      "metadata": {
        "colab": {
          "base_uri": "https://localhost:8080/"
        },
        "id": "hXZadvLaMCzh",
        "outputId": "660154e2-2bd9-4dae-811b-b0c9dec23cbe"
      },
      "execution_count": 32,
      "outputs": [
        {
          "output_type": "execute_result",
          "data": {
            "text/plain": [
              "15"
            ]
          },
          "metadata": {},
          "execution_count": 32
        }
      ]
    },
    {
      "cell_type": "code",
      "source": [
        "ar9+ar10"
      ],
      "metadata": {
        "colab": {
          "base_uri": "https://localhost:8080/"
        },
        "id": "Zx2WQu9o8Iiy",
        "outputId": "9c32642b-82da-405d-a751-300fc964455c"
      },
      "execution_count": 13,
      "outputs": [
        {
          "output_type": "execute_result",
          "data": {
            "text/plain": [
              "array([[32, 37, 28],\n",
              "       [24, 28, 26],\n",
              "       [32, 25, 34]])"
            ]
          },
          "metadata": {},
          "execution_count": 13
        }
      ]
    },
    {
      "cell_type": "code",
      "source": [
        "ar9/2*ar10/2"
      ],
      "metadata": {
        "colab": {
          "base_uri": "https://localhost:8080/"
        },
        "id": "fAMecg7t8L70",
        "outputId": "dc76a736-14f8-4a8f-96ee-2d430a435895"
      },
      "execution_count": 14,
      "outputs": [
        {
          "output_type": "execute_result",
          "data": {
            "text/plain": [
              "array([[63.  , 85.5 , 49.  ],\n",
              "       [35.75, 45.  , 41.25],\n",
              "       [63.  , 38.5 , 72.25]])"
            ]
          },
          "metadata": {},
          "execution_count": 14
        }
      ]
    },
    {
      "cell_type": "code",
      "source": [
        "ar9.ndim"
      ],
      "metadata": {
        "colab": {
          "base_uri": "https://localhost:8080/"
        },
        "id": "oq0jJcoL8Qpj",
        "outputId": "74550ab1-4bea-474c-c287-fff7f8035b03"
      },
      "execution_count": 15,
      "outputs": [
        {
          "output_type": "execute_result",
          "data": {
            "text/plain": [
              "2"
            ]
          },
          "metadata": {},
          "execution_count": 15
        }
      ]
    },
    {
      "cell_type": "code",
      "source": [
        "help(max)\n"
      ],
      "metadata": {
        "colab": {
          "base_uri": "https://localhost:8080/"
        },
        "id": "nO19hYV38ixn",
        "outputId": "3265f62b-76c3-488c-bcd4-1e837caa0588"
      },
      "execution_count": 17,
      "outputs": [
        {
          "output_type": "stream",
          "name": "stdout",
          "text": [
            "Help on built-in function max in module builtins:\n",
            "\n",
            "max(...)\n",
            "    max(iterable, *[, default=obj, key=func]) -> value\n",
            "    max(arg1, arg2, *args, *[, key=func]) -> value\n",
            "    \n",
            "    With a single iterable argument, return its biggest item. The\n",
            "    default keyword-only argument specifies an object to return if\n",
            "    the provided iterable is empty.\n",
            "    With two or more arguments, return the largest argument.\n",
            "\n"
          ]
        }
      ]
    },
    {
      "cell_type": "code",
      "source": [
        "ar9.max(axis=0)   # axis=0 is for column wise it will takes"
      ],
      "metadata": {
        "colab": {
          "base_uri": "https://localhost:8080/"
        },
        "id": "flayNTsa_Mey",
        "outputId": "36d9b7a1-3611-4bc2-9faa-4611d00b717a"
      },
      "execution_count": 18,
      "outputs": [
        {
          "output_type": "execute_result",
          "data": {
            "text/plain": [
              "array([14, 19, 17])"
            ]
          },
          "metadata": {},
          "execution_count": 18
        }
      ]
    },
    {
      "cell_type": "code",
      "source": [
        "ar9.max(axis=1)   # axis=0 is for Row wise it will takes"
      ],
      "metadata": {
        "colab": {
          "base_uri": "https://localhost:8080/"
        },
        "id": "OkwhuUvu_qZT",
        "outputId": "a6a896f1-72ca-46fa-ed7b-dcc334436bee"
      },
      "execution_count": 19,
      "outputs": [
        {
          "output_type": "execute_result",
          "data": {
            "text/plain": [
              "array([19, 15, 17])"
            ]
          },
          "metadata": {},
          "execution_count": 19
        }
      ]
    },
    {
      "cell_type": "code",
      "source": [
        "lis1=[[1,2],[2,3],[4,5]]\n",
        "ar11=np.array(lis1)\n",
        "ar11"
      ],
      "metadata": {
        "colab": {
          "base_uri": "https://localhost:8080/"
        },
        "id": "oTHt8zS4ACeE",
        "outputId": "355067c1-143a-4d66-9cbb-5a8411709b4d"
      },
      "execution_count": 24,
      "outputs": [
        {
          "output_type": "execute_result",
          "data": {
            "text/plain": [
              "array([[1, 2],\n",
              "       [2, 3],\n",
              "       [4, 5]])"
            ]
          },
          "metadata": {},
          "execution_count": 24
        }
      ]
    },
    {
      "cell_type": "code",
      "source": [
        "ar11.shape\n"
      ],
      "metadata": {
        "colab": {
          "base_uri": "https://localhost:8080/"
        },
        "id": "ZOk9PByEDZTT",
        "outputId": "6b83c0e4-6f51-40e3-a05c-5f8d2dfd8b44"
      },
      "execution_count": 25,
      "outputs": [
        {
          "output_type": "execute_result",
          "data": {
            "text/plain": [
              "(3, 2)"
            ]
          },
          "metadata": {},
          "execution_count": 25
        }
      ]
    },
    {
      "cell_type": "code",
      "source": [
        "ar11.reshape(1,6)"
      ],
      "metadata": {
        "colab": {
          "base_uri": "https://localhost:8080/"
        },
        "id": "uGQUr5qwDj1J",
        "outputId": "0c64e054-2435-4fc0-a9c9-51be93304dec"
      },
      "execution_count": 27,
      "outputs": [
        {
          "output_type": "execute_result",
          "data": {
            "text/plain": [
              "array([[1, 2, 2, 3, 4, 5]])"
            ]
          },
          "metadata": {},
          "execution_count": 27
        }
      ]
    },
    {
      "cell_type": "code",
      "source": [
        "ar11[1]"
      ],
      "metadata": {
        "colab": {
          "base_uri": "https://localhost:8080/"
        },
        "id": "T5jRQ7TfDnE1",
        "outputId": "e8cce225-ab00-4e20-ed28-dd222374a09f"
      },
      "execution_count": 28,
      "outputs": [
        {
          "output_type": "execute_result",
          "data": {
            "text/plain": [
              "array([2, 3])"
            ]
          },
          "metadata": {},
          "execution_count": 28
        }
      ]
    },
    {
      "cell_type": "code",
      "source": [
        "ar11"
      ],
      "metadata": {
        "colab": {
          "base_uri": "https://localhost:8080/"
        },
        "id": "6FPDR0y4JTYX",
        "outputId": "1d383117-25f8-45db-d6f5-7b81e35f72c9"
      },
      "execution_count": 34,
      "outputs": [
        {
          "output_type": "execute_result",
          "data": {
            "text/plain": [
              "array([[1, 2],\n",
              "       [2, 3],\n",
              "       [4, 5]])"
            ]
          },
          "metadata": {},
          "execution_count": 34
        }
      ]
    },
    {
      "cell_type": "code",
      "source": [
        "ar12=np.random.randint(10,20,(3,3),dtype=int)\n",
        "ar12"
      ],
      "metadata": {
        "colab": {
          "base_uri": "https://localhost:8080/"
        },
        "id": "Jolb12TkUQ-K",
        "outputId": "1bd32d30-e269-43ae-8866-bd8bf4367d53"
      },
      "execution_count": 35,
      "outputs": [
        {
          "output_type": "execute_result",
          "data": {
            "text/plain": [
              "array([[15, 18, 16],\n",
              "       [16, 10, 14],\n",
              "       [10, 16, 15]])"
            ]
          },
          "metadata": {},
          "execution_count": 35
        }
      ]
    },
    {
      "cell_type": "code",
      "source": [
        "ar12[0:3,1:3:2]"
      ],
      "metadata": {
        "colab": {
          "base_uri": "https://localhost:8080/"
        },
        "id": "TfzighjoVdhg",
        "outputId": "7dfe2017-9700-4c9d-be51-02923c89b8ea"
      },
      "execution_count": 45,
      "outputs": [
        {
          "output_type": "execute_result",
          "data": {
            "text/plain": [
              "array([[18],\n",
              "       [10],\n",
              "       [16]])"
            ]
          },
          "metadata": {},
          "execution_count": 45
        }
      ]
    },
    {
      "cell_type": "code",
      "source": [
        "ar12[1:3:1,1:3:2]"
      ],
      "metadata": {
        "colab": {
          "base_uri": "https://localhost:8080/"
        },
        "id": "ViyqWaPUUY4w",
        "outputId": "9c30f2e9-19f0-4561-a00b-8a9f4faabd43"
      },
      "execution_count": 38,
      "outputs": [
        {
          "output_type": "execute_result",
          "data": {
            "text/plain": [
              "array([[10],\n",
              "       [16]])"
            ]
          },
          "metadata": {},
          "execution_count": 38
        }
      ]
    },
    {
      "cell_type": "code",
      "source": [
        "ar12[::2,1:3:1]"
      ],
      "metadata": {
        "colab": {
          "base_uri": "https://localhost:8080/"
        },
        "id": "IVCXr6H7Vu4Z",
        "outputId": "2c2eba12-2fd2-4833-d5fd-6c92fa42e50b"
      },
      "execution_count": 53,
      "outputs": [
        {
          "output_type": "execute_result",
          "data": {
            "text/plain": [
              "array([[18, 16],\n",
              "       [16, 15]])"
            ]
          },
          "metadata": {},
          "execution_count": 53
        }
      ]
    },
    {
      "cell_type": "code",
      "source": [
        "ar12[0:3:2,0:3:2]"
      ],
      "metadata": {
        "colab": {
          "base_uri": "https://localhost:8080/"
        },
        "id": "sTCX-Q6-UqFG",
        "outputId": "61ffa561-840f-4b7a-ac7e-a62e65909560"
      },
      "execution_count": 39,
      "outputs": [
        {
          "output_type": "execute_result",
          "data": {
            "text/plain": [
              "array([[15, 16],\n",
              "       [10, 15]])"
            ]
          },
          "metadata": {},
          "execution_count": 39
        }
      ]
    },
    {
      "cell_type": "code",
      "source": [
        "ar13=np.random.randint(1,10,(5,7))\n",
        "ar13"
      ],
      "metadata": {
        "colab": {
          "base_uri": "https://localhost:8080/"
        },
        "id": "7H8F3qoNU8dX",
        "outputId": "f7e6efa1-75d4-4284-f5d1-ae92e5801d83"
      },
      "execution_count": 54,
      "outputs": [
        {
          "output_type": "execute_result",
          "data": {
            "text/plain": [
              "array([[9, 6, 5, 5, 9, 3, 1],\n",
              "       [2, 8, 9, 4, 6, 5, 4],\n",
              "       [3, 2, 8, 5, 2, 6, 6],\n",
              "       [5, 6, 9, 7, 3, 3, 8],\n",
              "       [8, 9, 1, 2, 1, 2, 8]])"
            ]
          },
          "metadata": {},
          "execution_count": 54
        }
      ]
    },
    {
      "cell_type": "code",
      "source": [
        "ar13[1::1,0::2]"
      ],
      "metadata": {
        "colab": {
          "base_uri": "https://localhost:8080/"
        },
        "id": "4dTRcUj9YUa0",
        "outputId": "724880c5-aa03-4286-a799-e045902bff07"
      },
      "execution_count": 63,
      "outputs": [
        {
          "output_type": "execute_result",
          "data": {
            "text/plain": [
              "array([[2, 9, 6, 4],\n",
              "       [3, 8, 2, 6],\n",
              "       [5, 9, 3, 8],\n",
              "       [8, 1, 1, 8]])"
            ]
          },
          "metadata": {},
          "execution_count": 63
        }
      ]
    },
    {
      "cell_type": "code",
      "source": [
        "ar13[1::1,1:5:4]"
      ],
      "metadata": {
        "colab": {
          "base_uri": "https://localhost:8080/"
        },
        "id": "moKrrzwUYX4t",
        "outputId": "e24244ff-4967-4206-b229-b8804bee96e3"
      },
      "execution_count": 65,
      "outputs": [
        {
          "output_type": "execute_result",
          "data": {
            "text/plain": [
              "array([[8, 4],\n",
              "       [2, 5],\n",
              "       [6, 7],\n",
              "       [9, 2]])"
            ]
          },
          "metadata": {},
          "execution_count": 65
        }
      ]
    },
    {
      "cell_type": "code",
      "source": [
        "ar13[0:,0::3]"
      ],
      "metadata": {
        "colab": {
          "base_uri": "https://localhost:8080/"
        },
        "id": "qqE79oajZb-D",
        "outputId": "58580b9d-310f-42ec-81fd-19cf2f3c1971"
      },
      "execution_count": 68,
      "outputs": [
        {
          "output_type": "execute_result",
          "data": {
            "text/plain": [
              "array([[9, 5, 1],\n",
              "       [2, 4, 4],\n",
              "       [3, 5, 6],\n",
              "       [5, 7, 8],\n",
              "       [8, 2, 8]])"
            ]
          },
          "metadata": {},
          "execution_count": 68
        }
      ]
    },
    {
      "cell_type": "code",
      "source": [
        "def array(x,y):\n",
        "  a=np.full(x,y)\n",
        "  return a\n",
        "print(array((3,3),\"python\"))"
      ],
      "metadata": {
        "colab": {
          "base_uri": "https://localhost:8080/"
        },
        "id": "PDIYIV7qZz_T",
        "outputId": "2e7aa8ed-4445-4c2b-a893-50b83cbc963b"
      },
      "execution_count": 69,
      "outputs": [
        {
          "output_type": "stream",
          "name": "stdout",
          "text": [
            "[['python' 'python' 'python']\n",
            " ['python' 'python' 'python']\n",
            " ['python' 'python' 'python']]\n"
          ]
        }
      ]
    },
    {
      "cell_type": "code",
      "source": [],
      "metadata": {
        "id": "K8e_SHvFcnKH"
      },
      "execution_count": null,
      "outputs": []
    }
  ]
}